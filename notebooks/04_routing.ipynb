{
 "cells": [
  {
   "cell_type": "markdown",
   "metadata": {},
   "source": [
    "# Routing optical and RF ports\n",
    "\n",
    "Optical and high speed RF ports have an orientation that routes need to follow to avoid sharp turns that produce reflections."
   ]
  },
  {
   "cell_type": "code",
   "execution_count": 1,
   "metadata": {
    "execution": {
     "iopub.execute_input": "2022-05-31T23:06:44.729382Z",
     "iopub.status.busy": "2022-05-31T23:06:44.728772Z",
     "iopub.status.idle": "2022-05-31T23:06:46.762361Z",
     "shell.execute_reply": "2022-05-31T23:06:46.761462Z"
    }
   },
   "outputs": [
    {
     "name": "stderr",
     "output_type": "stream",
     "text": [
      "2022-05-31 23:06:45.568 | INFO     | gdsfactory.config:<module>:52 - Load '/home/runner/work/gdsfactory/gdsfactory/gdsfactory' 5.8.3\n"
     ]
    }
   ],
   "source": [
    "import gdsfactory as gf\n",
    "\n",
    "gf.config.set_plot_options(show_subports=False)\n",
    "gf.CONF.plotter = \"matplotlib\""
   ]
  },
  {
   "cell_type": "code",
   "execution_count": 2,
   "metadata": {
    "execution": {
     "iopub.execute_input": "2022-05-31T23:06:46.765959Z",
     "iopub.status.busy": "2022-05-31T23:06:46.765564Z",
     "iopub.status.idle": "2022-05-31T23:06:46.903985Z",
     "shell.execute_reply": "2022-05-31T23:06:46.903406Z"
    }
   },
   "outputs": [
    {
     "name": "stderr",
     "output_type": "stream",
     "text": [
      "/home/runner/work/gdsfactory/gdsfactory/gdsfactory/component.py:1021: UserWarning: Component 'Unnamed_dec6e2cb' contains 1 Unnamed cells\n",
      "  warnings.warn(\n"
     ]
    },
    {
     "data": {
      "image/png": "[encoded data removed]",
      "text/plain": [
       "<Figure size 432x288 with 1 Axes>"
      ]
     },
     "metadata": {
      "needs_background": "light"
     },
     "output_type": "display_data"
    },
    {
     "data": {
      "text/html": [
       "Unnamed_dec6e2cb: uid 0, ports [], aliases [], 0 polygons, 2 references"
      ],
      "text/plain": [
       "Unnamed_dec6e2cb: uid 0, ports [], aliases [], 0 polygons, 2 references"
      ]
     },
     "execution_count": 2,
     "metadata": {},
     "output_type": "execute_result"
    }
   ],
   "source": [
    "c = gf.Component()\n",
    "mmi1 = c << gf.components.mmi1x2()\n",
    "mmi2 = c << gf.components.mmi1x2()\n",
    "mmi2.move((100, 50))\n",
    "c"
   ]
  },
  {
   "cell_type": "markdown",
   "metadata": {},
   "source": [
    "## get_route\n",
    "\n",
    "`get_route` returns a Manhattan route between 2 ports"
   ]
  },
  {
   "cell_type": "code",
   "execution_count": 3,
   "metadata": {
    "execution": {
     "iopub.execute_input": "2022-05-31T23:06:46.907325Z",
     "iopub.status.busy": "2022-05-31T23:06:46.907094Z",
     "iopub.status.idle": "2022-05-31T23:06:46.952529Z",
     "shell.execute_reply": "2022-05-31T23:06:46.951334Z"
    }
   },
   "outputs": [],
   "source": [
    "gf.routing.get_route?"
   ]
  },
  {
   "cell_type": "code",
   "execution_count": 4,
   "metadata": {
    "execution": {
     "iopub.execute_input": "2022-05-31T23:06:46.955747Z",
     "iopub.status.busy": "2022-05-31T23:06:46.955352Z",
     "iopub.status.idle": "2022-05-31T23:06:47.085869Z",
     "shell.execute_reply": "2022-05-31T23:06:47.085333Z"
    }
   },
   "outputs": [
    {
     "data": {
      "image/png": "[encoded data removed]",
      "text/plain": [
       "<Figure size 432x288 with 1 Axes>"
      ]
     },
     "metadata": {
      "needs_background": "light"
     },
     "output_type": "display_data"
    },
    {
     "data": {
      "text/html": [
       "sample_connect: uid 5, ports [], aliases [], 0 polygons, 7 references"
      ],
      "text/plain": [
       "sample_connect: uid 5, ports [], aliases [], 0 polygons, 7 references"
      ]
     },
     "execution_count": 4,
     "metadata": {},
     "output_type": "execute_result"
    }
   ],
   "source": [
    "c = gf.Component(\"sample_connect\")\n",
    "mmi1 = c << gf.components.mmi1x2()\n",
    "mmi2 = c << gf.components.mmi1x2()\n",
    "mmi2.move((100, 50))\n",
    "route = gf.routing.get_route(mmi1.ports[\"o2\"], mmi2.ports[\"o1\"])\n",
    "c.add(route.references)\n",
    "c"
   ]
  },
  {
   "cell_type": "code",
   "execution_count": 5,
   "metadata": {
    "execution": {
     "iopub.execute_input": "2022-05-31T23:06:47.088604Z",
     "iopub.status.busy": "2022-05-31T23:06:47.088200Z",
     "iopub.status.idle": "2022-05-31T23:06:47.092813Z",
     "shell.execute_reply": "2022-05-31T23:06:47.092361Z"
    }
   },
   "outputs": [
    {
     "data": {
      "text/plain": [
       "Route(references=[DeviceReference (parent Device \"bend_euler\", ports ['o1', 'o2'], origin [69.99   0.625], rotation 0, x_reflection False), DeviceReference (parent Device \"bend_euler\", ports ['o1', 'o2'], origin [79.99 40.  ], rotation 90.0, x_reflection True), DeviceReference (parent Device \"straight_89bf0bf0\", ports ['o1', 'o2'], origin [15.5    0.625], rotation 0, x_reflection False), DeviceReference (parent Device \"straight_7e83a799\", ports ['o1', 'o2'], origin [79.99  10.625], rotation 90.0, x_reflection False), DeviceReference (parent Device \"straight_77b336e2\", ports ['o1', 'o2'], origin [89.99 50.  ], rotation 0, x_reflection False)], labels=None, ports=(Port (name o1, midpoint [15.5    0.625], width 0.5, orientation 180, layer (1, 0), port_type optical), Port (name o2, midpoint [90. 50.], width 0.5, orientation 0.0, layer (1, 0), port_type optical)), length=117.149)"
      ]
     },
     "execution_count": 5,
     "metadata": {},
     "output_type": "execute_result"
    }
   ],
   "source": [
    "route"
   ]
  },
  {
   "cell_type": "markdown",
   "metadata": {},
   "source": [
    "**Problem**: get_route with obstacles\n",
    "\n",
    "sometimes there are obstacles that connect strip does not see!"
   ]
  },
  {
   "cell_type": "code",
   "execution_count": 6,
   "metadata": {
    "execution": {
     "iopub.execute_input": "2022-05-31T23:06:47.096470Z",
     "iopub.status.busy": "2022-05-31T23:06:47.095476Z",
     "iopub.status.idle": "2022-05-31T23:06:47.226358Z",
     "shell.execute_reply": "2022-05-31T23:06:47.225856Z"
    }
   },
   "outputs": [
    {
     "data": {
      "image/png": "[encoded data removed]",
      "text/plain": [
       "<Figure size 432x288 with 1 Axes>"
      ]
     },
     "metadata": {
      "needs_background": "light"
     },
     "output_type": "display_data"
    },
    {
     "data": {
      "text/html": [
       "sample_problem: uid 15, ports [], aliases [], 0 polygons, 8 references"
      ],
      "text/plain": [
       "sample_problem: uid 15, ports [], aliases [], 0 polygons, 8 references"
      ]
     },
     "execution_count": 6,
     "metadata": {},
     "output_type": "execute_result"
    }
   ],
   "source": [
    "c = gf.Component(\"sample_problem\")\n",
    "mmi1 = c << gf.components.mmi1x2()\n",
    "mmi2 = c << gf.components.mmi1x2()\n",
    "mmi2.move((110, 50))\n",
    "x = c << gf.components.cross(length=20)\n",
    "x.move((135, 20))\n",
    "route = gf.routing.get_route(mmi1.ports[\"o2\"], mmi2.ports[\"o2\"])\n",
    "c.add(route.references)\n",
    "c"
   ]
  },
  {
   "cell_type": "markdown",
   "metadata": {},
   "source": [
    "**Solutions:**\n",
    "\n",
    "- specify the route waypoints\n",
    "- specify the route steps"
   ]
  },
  {
   "cell_type": "code",
   "execution_count": 7,
   "metadata": {
    "execution": {
     "iopub.execute_input": "2022-05-31T23:06:47.230567Z",
     "iopub.status.busy": "2022-05-31T23:06:47.229533Z",
     "iopub.status.idle": "2022-05-31T23:06:47.464781Z",
     "shell.execute_reply": "2022-05-31T23:06:47.464267Z"
    }
   },
   "outputs": [
    {
     "data": {
      "image/png": "[encoded data removed]",
      "text/plain": [
       "<Figure size 432x288 with 1 Axes>"
      ]
     },
     "metadata": {
      "needs_background": "light"
     },
     "output_type": "display_data"
    },
    {
     "data": {
      "text/html": [
       "sample_avoid_obstacle: uid 23, ports [], aliases [], 0 polygons, 8 references"
      ],
      "text/plain": [
       "sample_avoid_obstacle: uid 23, ports [], aliases [], 0 polygons, 8 references"
      ]
     },
     "execution_count": 7,
     "metadata": {},
     "output_type": "execute_result"
    }
   ],
   "source": [
    "c = gf.Component(\"sample_avoid_obstacle\")\n",
    "mmi1 = c << gf.components.mmi1x2()\n",
    "mmi2 = c << gf.components.mmi1x2()\n",
    "mmi2.move((110, 50))\n",
    "x = c << gf.components.cross(length=20)\n",
    "x.move((135, 20))\n",
    "\n",
    "x0 = mmi1.ports[\"o3\"].x\n",
    "y0 = mmi1.ports[\"o3\"].y\n",
    "\n",
    "\n",
    "x2 = mmi2.ports[\"o3\"].x\n",
    "y2 = mmi2.ports[\"o3\"].y\n",
    "\n",
    "route = gf.routing.get_route_from_waypoints(\n",
    "    [(x0, y0), (x2 + 40, y0), (x2 + 40, y2), (x2, y2)]\n",
    ")\n",
    "c.add(route.references)\n",
    "c"
   ]
  },
  {
   "cell_type": "code",
   "execution_count": 8,
   "metadata": {
    "execution": {
     "iopub.execute_input": "2022-05-31T23:06:47.468957Z",
     "iopub.status.busy": "2022-05-31T23:06:47.467679Z",
     "iopub.status.idle": "2022-05-31T23:06:47.474618Z",
     "shell.execute_reply": "2022-05-31T23:06:47.473930Z"
    }
   },
   "outputs": [
    {
     "data": {
      "text/plain": [
       "233.274"
      ]
     },
     "execution_count": 8,
     "metadata": {},
     "output_type": "execute_result"
    }
   ],
   "source": [
    "route.length"
   ]
  },
  {
   "cell_type": "code",
   "execution_count": 9,
   "metadata": {
    "execution": {
     "iopub.execute_input": "2022-05-31T23:06:47.477120Z",
     "iopub.status.busy": "2022-05-31T23:06:47.476912Z",
     "iopub.status.idle": "2022-05-31T23:06:47.480879Z",
     "shell.execute_reply": "2022-05-31T23:06:47.480407Z"
    }
   },
   "outputs": [
    {
     "data": {
      "text/plain": [
       "(Port (name o1, midpoint [15.5   -0.625], width 0.5, orientation 180, layer (1, 0), port_type optical),\n",
       " Port (name o2, midpoint [125.5    49.375], width 0.5, orientation 180.0, layer (1, 0), port_type optical))"
      ]
     },
     "execution_count": 9,
     "metadata": {},
     "output_type": "execute_result"
    }
   ],
   "source": [
    "route.ports"
   ]
  },
  {
   "cell_type": "code",
   "execution_count": 10,
   "metadata": {
    "execution": {
     "iopub.execute_input": "2022-05-31T23:06:47.483321Z",
     "iopub.status.busy": "2022-05-31T23:06:47.483112Z",
     "iopub.status.idle": "2022-05-31T23:06:47.488606Z",
     "shell.execute_reply": "2022-05-31T23:06:47.487268Z"
    }
   },
   "outputs": [
    {
     "data": {
      "text/plain": [
       "[DeviceReference (parent Device \"bend_euler_44e21782\", ports ['o1', 'o2'], origin [155.5    -0.625], rotation 0, x_reflection False),\n",
       " DeviceReference (parent Device \"bend_euler_44e21782\", ports ['o1', 'o2'], origin [165.5    39.375], rotation 90, x_reflection False),\n",
       " DeviceReference (parent Device \"straight_20c5b743\", ports ['o1', 'o2'], origin [15.5   -0.625], rotation 0, x_reflection False),\n",
       " DeviceReference (parent Device \"straight_a0111d3a\", ports ['o1', 'o2'], origin [165.5     9.375], rotation 90.0, x_reflection False),\n",
       " DeviceReference (parent Device \"straight_a0111d3a\", ports ['o1', 'o2'], origin [155.5    49.375], rotation 180.0, x_reflection False)]"
      ]
     },
     "execution_count": 10,
     "metadata": {},
     "output_type": "execute_result"
    }
   ],
   "source": [
    "route.references"
   ]
  },
  {
   "cell_type": "markdown",
   "metadata": {},
   "source": [
    "Lets say that we want to extrude the waveguide using a different waveguide crosssection, for example using a different layer"
   ]
  },
  {
   "cell_type": "code",
   "execution_count": 11,
   "metadata": {
    "execution": {
     "iopub.execute_input": "2022-05-31T23:06:47.491279Z",
     "iopub.status.busy": "2022-05-31T23:06:47.491074Z",
     "iopub.status.idle": "2022-05-31T23:06:47.616892Z",
     "shell.execute_reply": "2022-05-31T23:06:47.616363Z"
    }
   },
   "outputs": [
    {
     "data": {
      "image/png": "[encoded data removed]",
      "text/plain": [
       "<Figure size 432x288 with 1 Axes>"
      ]
     },
     "metadata": {
      "needs_background": "light"
     },
     "output_type": "display_data"
    },
    {
     "data": {
      "text/html": [
       "sample_connect: uid 29, ports [], aliases [], 0 polygons, 7 references"
      ],
      "text/plain": [
       "sample_connect: uid 29, ports [], aliases [], 0 polygons, 7 references"
      ]
     },
     "execution_count": 11,
     "metadata": {},
     "output_type": "execute_result"
    }
   ],
   "source": [
    "import gdsfactory as gf\n",
    "\n",
    "c = gf.Component(\"sample_connect\")\n",
    "mmi1 = c << gf.components.mmi1x2()\n",
    "mmi2 = c << gf.components.mmi1x2()\n",
    "mmi2.move((100, 50))\n",
    "route = gf.routing.get_route(\n",
    "    mmi1.ports[\"o3\"], mmi2.ports[\"o1\"], cross_section=gf.cross_section.metal1\n",
    ")\n",
    "c.add(route.references)\n",
    "c"
   ]
  },
  {
   "cell_type": "markdown",
   "metadata": {},
   "source": [
    "## auto_widen\n",
    "\n",
    "To reduce loss and phase errors you can also auto-widen waveguide routes straight sections that are longer than a certain length."
   ]
  },
  {
   "cell_type": "code",
   "execution_count": 12,
   "metadata": {
    "execution": {
     "iopub.execute_input": "2022-05-31T23:06:47.620161Z",
     "iopub.status.busy": "2022-05-31T23:06:47.619778Z",
     "iopub.status.idle": "2022-05-31T23:06:47.752501Z",
     "shell.execute_reply": "2022-05-31T23:06:47.752030Z"
    }
   },
   "outputs": [
    {
     "data": {
      "image/png": "[encoded data removed]",
      "text/plain": [
       "<Figure size 432x288 with 1 Axes>"
      ]
     },
     "metadata": {
      "needs_background": "light"
     },
     "output_type": "display_data"
    },
    {
     "data": {
      "text/html": [
       "sample_connect: uid 39, ports [], aliases [], 0 polygons, 9 references"
      ],
      "text/plain": [
       "sample_connect: uid 39, ports [], aliases [], 0 polygons, 9 references"
      ]
     },
     "execution_count": 12,
     "metadata": {},
     "output_type": "execute_result"
    }
   ],
   "source": [
    "import gdsfactory as gf\n",
    "\n",
    "c = gf.Component(\"sample_connect\")\n",
    "mmi1 = c << gf.components.mmi1x2()\n",
    "mmi2 = c << gf.components.mmi1x2()\n",
    "mmi2.move((200, 50))\n",
    "\n",
    "route = gf.routing.get_route(\n",
    "    mmi1.ports[\"o3\"],\n",
    "    mmi2.ports[\"o1\"],\n",
    "    cross_section=gf.cross_section.strip,\n",
    "    auto_widen=True,\n",
    "    width_wide=2,\n",
    "    auto_widen_minimum_length=100,\n",
    ")\n",
    "c.add(route.references)\n",
    "c"
   ]
  },
  {
   "cell_type": "markdown",
   "metadata": {},
   "source": [
    "## get_route_from_waypoints\n",
    "\n",
    "Sometimes you need to set up a route with custom waypoints. `get_route_from_waypoints` is a manual version of `get_route`"
   ]
  },
  {
   "cell_type": "code",
   "execution_count": 13,
   "metadata": {
    "execution": {
     "iopub.execute_input": "2022-05-31T23:06:47.755394Z",
     "iopub.status.busy": "2022-05-31T23:06:47.755058Z",
     "iopub.status.idle": "2022-05-31T23:06:47.889517Z",
     "shell.execute_reply": "2022-05-31T23:06:47.889019Z"
    }
   },
   "outputs": [
    {
     "data": {
      "image/png": "[encoded data removed]",
      "text/plain": [
       "<Figure size 432x288 with 1 Axes>"
      ]
     },
     "metadata": {
      "needs_background": "light"
     },
     "output_type": "display_data"
    },
    {
     "data": {
      "text/html": [
       "waypoints_sample: uid 49, ports [], aliases [], 0 polygons, 10 references"
      ],
      "text/plain": [
       "waypoints_sample: uid 49, ports [], aliases [], 0 polygons, 10 references"
      ]
     },
     "execution_count": 13,
     "metadata": {},
     "output_type": "execute_result"
    }
   ],
   "source": [
    "import gdsfactory as gf\n",
    "\n",
    "c = gf.Component(\"waypoints_sample\")\n",
    "\n",
    "w = gf.components.straight()\n",
    "left = c << w\n",
    "right = c << w\n",
    "right.move((100, 80))\n",
    "\n",
    "obstacle = gf.components.rectangle(size=(100, 10))\n",
    "obstacle1 = c << obstacle\n",
    "obstacle2 = c << obstacle\n",
    "obstacle1.ymin = 40\n",
    "obstacle2.xmin = 25\n",
    "\n",
    "\n",
    "p0x, p0y = left.ports[\"o2\"].midpoint\n",
    "p1x, p1y = right.ports[\"o2\"].midpoint\n",
    "o = 10  # vertical offset to overcome bottom obstacle\n",
    "ytop = 20\n",
    "\n",
    "\n",
    "routes = gf.routing.get_route_from_waypoints(\n",
    "    [\n",
    "        (p0x, p0y),\n",
    "        (p0x + o, p0y),\n",
    "        (p0x + o, ytop),\n",
    "        (p1x + o, ytop),\n",
    "        (p1x + o, p1y),\n",
    "        (p1x, p1y),\n",
    "    ],\n",
    ")\n",
    "c.add(routes.references)\n",
    "c"
   ]
  },
  {
   "cell_type": "markdown",
   "metadata": {},
   "source": [
    "## get_route_from_steps\n",
    "\n",
    "As you can see waypoints can only change one point (x or y) at a time, making the waypoint definition a bit redundant.\n",
    "\n",
    "You can also use a `get_route_from_steps` which is a more concise route definition, that supports defining only the new steps `x` or `y` together with increments `dx` or `dy`\n",
    "\n",
    "`get_route_from_steps` is a manual version of `get_route` and a more concise and convenient version of `get_route_from_waypoints`"
   ]
  },
  {
   "cell_type": "code",
   "execution_count": 14,
   "metadata": {
    "execution": {
     "iopub.execute_input": "2022-05-31T23:06:47.892500Z",
     "iopub.status.busy": "2022-05-31T23:06:47.892081Z",
     "iopub.status.idle": "2022-05-31T23:06:48.012883Z",
     "shell.execute_reply": "2022-05-31T23:06:48.012382Z"
    }
   },
   "outputs": [
    {
     "data": {
      "image/png": "[encoded data removed]",
      "text/plain": [
       "<Figure size 432x288 with 1 Axes>"
      ]
     },
     "metadata": {
      "needs_background": "light"
     },
     "output_type": "display_data"
    },
    {
     "data": {
      "text/html": [
       "get_route_from_steps: uid 60, ports [], aliases [], 0 polygons, 10 references"
      ],
      "text/plain": [
       "get_route_from_steps: uid 60, ports [], aliases [], 0 polygons, 10 references"
      ]
     },
     "execution_count": 14,
     "metadata": {},
     "output_type": "execute_result"
    }
   ],
   "source": [
    "import gdsfactory as gf\n",
    "\n",
    "c = gf.Component(\"get_route_from_steps\")\n",
    "w = gf.components.straight()\n",
    "left = c << w\n",
    "right = c << w\n",
    "right.move((100, 80))\n",
    "\n",
    "obstacle = gf.components.rectangle(size=(100, 10))\n",
    "obstacle1 = c << obstacle\n",
    "obstacle2 = c << obstacle\n",
    "obstacle1.ymin = 40\n",
    "obstacle2.xmin = 25\n",
    "\n",
    "port1 = left.ports[\"o2\"]\n",
    "port2 = right.ports[\"o2\"]\n",
    "\n",
    "routes = gf.routing.get_route_from_steps(\n",
    "    port1=port1,\n",
    "    port2=port2,\n",
    "    steps=[\n",
    "        {\"x\": 20, \"y\": 0},\n",
    "        {\"x\": 20, \"y\": 20},\n",
    "        {\"x\": 120, \"y\": 20},\n",
    "        {\"x\": 120, \"y\": 80},\n",
    "    ],\n",
    ")\n",
    "c.add(routes.references)\n",
    "c"
   ]
  },
  {
   "cell_type": "code",
   "execution_count": 15,
   "metadata": {
    "execution": {
     "iopub.execute_input": "2022-05-31T23:06:48.015513Z",
     "iopub.status.busy": "2022-05-31T23:06:48.015288Z",
     "iopub.status.idle": "2022-05-31T23:06:48.135992Z",
     "shell.execute_reply": "2022-05-31T23:06:48.135479Z"
    }
   },
   "outputs": [
    {
     "data": {
      "image/png": "[encoded data removed]",
      "text/plain": [
       "<Figure size 432x288 with 1 Axes>"
      ]
     },
     "metadata": {
      "needs_background": "light"
     },
     "output_type": "display_data"
    },
    {
     "data": {
      "text/html": [
       "get_route_from_steps_shorter_syntax: uid 61, ports [], aliases [], 0 polygons, 10 references"
      ],
      "text/plain": [
       "get_route_from_steps_shorter_syntax: uid 61, ports [], aliases [], 0 polygons, 10 references"
      ]
     },
     "execution_count": 15,
     "metadata": {},
     "output_type": "execute_result"
    }
   ],
   "source": [
    "import gdsfactory as gf\n",
    "\n",
    "c = gf.Component(\"get_route_from_steps_shorter_syntax\")\n",
    "w = gf.components.straight()\n",
    "left = c << w\n",
    "right = c << w\n",
    "right.move((100, 80))\n",
    "\n",
    "obstacle = gf.components.rectangle(size=(100, 10))\n",
    "obstacle1 = c << obstacle\n",
    "obstacle2 = c << obstacle\n",
    "obstacle1.ymin = 40\n",
    "obstacle2.xmin = 25\n",
    "\n",
    "port1 = left.ports[\"o2\"]\n",
    "port2 = right.ports[\"o2\"]\n",
    "\n",
    "routes = gf.routing.get_route_from_steps(\n",
    "    port1=port1,\n",
    "    port2=port2,\n",
    "    steps=[\n",
    "        {\"x\": 20},\n",
    "        {\"y\": 20},\n",
    "        {\"x\": 120},\n",
    "        {\"y\": 80},\n",
    "    ],\n",
    ")\n",
    "c.add(routes.references)\n",
    "c"
   ]
  },
  {
   "cell_type": "markdown",
   "metadata": {},
   "source": [
    "## get_bundle\n",
    "\n",
    "**Problem**\n",
    "\n",
    "See the route collisions When connecting groups of ports using `get_route` manhattan single-route router"
   ]
  },
  {
   "cell_type": "code",
   "execution_count": 16,
   "metadata": {
    "execution": {
     "iopub.execute_input": "2022-05-31T23:06:48.138946Z",
     "iopub.status.busy": "2022-05-31T23:06:48.138719Z",
     "iopub.status.idle": "2022-05-31T23:06:48.305039Z",
     "shell.execute_reply": "2022-05-31T23:06:48.304531Z"
    }
   },
   "outputs": [
    {
     "data": {
      "image/png": "[encoded data removed]",
      "text/plain": [
       "<Figure size 432x288 with 1 Axes>"
      ]
     },
     "metadata": {
      "needs_background": "light"
     },
     "output_type": "display_data"
    },
    {
     "data": {
      "text/html": [
       "connect_bundle: uid 62, ports [], aliases [], 0 polygons, 30 references"
      ],
      "text/plain": [
       "connect_bundle: uid 62, ports [], aliases [], 0 polygons, 30 references"
      ]
     },
     "execution_count": 16,
     "metadata": {},
     "output_type": "execute_result"
    }
   ],
   "source": [
    "import gdsfactory as gf\n",
    "\n",
    "xs_top = [0, 10, 20, 40, 50, 80]\n",
    "pitch = 127\n",
    "N = len(xs_top)\n",
    "xs_bottom = [(i - N / 2) * pitch for i in range(N)]\n",
    "layer = (1, 0)\n",
    "\n",
    "top_ports = [\n",
    "    gf.Port(f\"top_{i}\", (xs_top[i], 0), 0.5, 270, layer=layer) for i in range(N)\n",
    "]\n",
    "\n",
    "bottom_ports = [\n",
    "    gf.Port(f\"bottom_{i}\", (xs_bottom[i], -100), 0.5, 90, layer=layer) for i in range(N)\n",
    "]\n",
    "\n",
    "c = gf.Component(name=\"connect_bundle\")\n",
    "\n",
    "for p1, p2 in zip(top_ports, bottom_ports):\n",
    "    route = gf.routing.get_route(p1, p2)\n",
    "    c.add(route.references)\n",
    "\n",
    "c"
   ]
  },
  {
   "cell_type": "markdown",
   "metadata": {},
   "source": [
    "**solution**\n",
    "\n",
    "`get_bundle` provides you with river routing capabilities, that you can use to route bundles of ports without collisions"
   ]
  },
  {
   "cell_type": "code",
   "execution_count": 17,
   "metadata": {
    "execution": {
     "iopub.execute_input": "2022-05-31T23:06:48.307833Z",
     "iopub.status.busy": "2022-05-31T23:06:48.307608Z",
     "iopub.status.idle": "2022-05-31T23:06:48.475921Z",
     "shell.execute_reply": "2022-05-31T23:06:48.475440Z"
    }
   },
   "outputs": [
    {
     "data": {
      "image/png": "[encoded data removed]",
      "text/plain": [
       "<Figure size 432x288 with 1 Axes>"
      ]
     },
     "metadata": {
      "needs_background": "light"
     },
     "output_type": "display_data"
    },
    {
     "data": {
      "text/html": [
       "connect_bundle: uid 77, ports [], aliases [], 0 polygons, 30 references"
      ],
      "text/plain": [
       "connect_bundle: uid 77, ports [], aliases [], 0 polygons, 30 references"
      ]
     },
     "execution_count": 17,
     "metadata": {},
     "output_type": "execute_result"
    }
   ],
   "source": [
    "c = gf.Component(name=\"connect_bundle\")\n",
    "routes = gf.routing.get_bundle(top_ports, bottom_ports)\n",
    "for route in routes:\n",
    "    c.add(route.references)\n",
    "\n",
    "c"
   ]
  },
  {
   "cell_type": "code",
   "execution_count": 18,
   "metadata": {
    "execution": {
     "iopub.execute_input": "2022-05-31T23:06:48.478711Z",
     "iopub.status.busy": "2022-05-31T23:06:48.478303Z",
     "iopub.status.idle": "2022-05-31T23:06:48.641202Z",
     "shell.execute_reply": "2022-05-31T23:06:48.640691Z"
    }
   },
   "outputs": [
    {
     "data": {
      "image/png": "[encoded data removed]",
      "text/plain": [
       "<Figure size 432x288 with 1 Axes>"
      ]
     },
     "metadata": {
      "needs_background": "light"
     },
     "output_type": "display_data"
    },
    {
     "data": {
      "text/html": [
       "connect_bundle2: uid 98, ports [], aliases [], 0 polygons, 30 references"
      ],
      "text/plain": [
       "connect_bundle2: uid 98, ports [], aliases [], 0 polygons, 30 references"
      ]
     },
     "execution_count": 18,
     "metadata": {},
     "output_type": "execute_result"
    }
   ],
   "source": [
    "import gdsfactory as gf\n",
    "\n",
    "ys_right = [0, 10, 20, 40, 50, 80]\n",
    "pitch = 127.0\n",
    "N = len(ys_right)\n",
    "ys_left = [(i - N / 2) * pitch for i in range(N)]\n",
    "layer = (1, 0)\n",
    "\n",
    "right_ports = [\n",
    "    gf.Port(f\"R_{i}\", (0, ys_right[i]), width=0.5, orientation=180, layer=layer)\n",
    "    for i in range(N)\n",
    "]\n",
    "left_ports = [\n",
    "    gf.Port(\n",
    "        f\"L_{i}\".format(i), (-200, ys_left[i]), width=0.5, orientation=0, layer=layer\n",
    "    )\n",
    "    for i in range(N)\n",
    "]\n",
    "\n",
    "# you can also mess up the port order and it will sort them by default\n",
    "left_ports.reverse()\n",
    "\n",
    "c = gf.Component(name=\"connect_bundle2\")\n",
    "routes = gf.routing.get_bundle(\n",
    "    left_ports, right_ports, sort_ports=True, start_straight_length=100\n",
    ")\n",
    "for route in routes:\n",
    "    c.add(route.references)\n",
    "c"
   ]
  },
  {
   "cell_type": "code",
   "execution_count": 19,
   "metadata": {
    "execution": {
     "iopub.execute_input": "2022-05-31T23:06:48.644067Z",
     "iopub.status.busy": "2022-05-31T23:06:48.643651Z",
     "iopub.status.idle": "2022-05-31T23:06:48.807273Z",
     "shell.execute_reply": "2022-05-31T23:06:48.806788Z"
    }
   },
   "outputs": [
    {
     "data": {
      "image/png": "[encoded data removed]",
      "text/plain": [
       "<Figure size 432x288 with 1 Axes>"
      ]
     },
     "metadata": {
      "needs_background": "light"
     },
     "output_type": "display_data"
    },
    {
     "data": {
      "text/html": [
       "connect_bundle: uid 107, ports [], aliases [], 0 polygons, 30 references"
      ],
      "text/plain": [
       "connect_bundle: uid 107, ports [], aliases [], 0 polygons, 30 references"
      ]
     },
     "execution_count": 19,
     "metadata": {},
     "output_type": "execute_result"
    }
   ],
   "source": [
    "xs_top = [0, 10, 20, 40, 50, 80]\n",
    "pitch = 127.0\n",
    "N = len(xs_top)\n",
    "xs_bottom = [(i - N / 2) * pitch for i in range(N)]\n",
    "layer = (1, 0)\n",
    "\n",
    "top_ports = [\n",
    "    gf.Port(\n",
    "        f\"top_{i}\", midpoint=(xs_top[i], 0), width=0.5, orientation=270, layer=layer\n",
    "    )\n",
    "    for i in range(N)\n",
    "]\n",
    "\n",
    "bot_ports = [\n",
    "    gf.Port(\n",
    "        f\"bot_{i}\",\n",
    "        midpoint=(xs_bottom[i], -300),\n",
    "        width=0.5,\n",
    "        orientation=90,\n",
    "        layer=layer,\n",
    "    )\n",
    "    for i in range(N)\n",
    "]\n",
    "\n",
    "c = gf.Component(name=\"connect_bundle\")\n",
    "routes = gf.routing.get_bundle(\n",
    "    top_ports, bot_ports, separation=5.0, end_straight_length=100\n",
    ")\n",
    "for route in routes:\n",
    "    c.add(route.references)\n",
    "\n",
    "c"
   ]
  },
  {
   "cell_type": "markdown",
   "metadata": {},
   "source": [
    "`get_bundle` can also route bundles through corners"
   ]
  },
  {
   "cell_type": "code",
   "execution_count": 20,
   "metadata": {
    "execution": {
     "iopub.execute_input": "2022-05-31T23:06:48.810286Z",
     "iopub.status.busy": "2022-05-31T23:06:48.809870Z",
     "iopub.status.idle": "2022-05-31T23:06:49.053813Z",
     "shell.execute_reply": "2022-05-31T23:06:49.053159Z"
    }
   },
   "outputs": [
    {
     "data": {
      "image/png": "[encoded data removed]",
      "text/plain": [
       "<Figure size 432x288 with 1 Axes>"
      ]
     },
     "metadata": {
      "needs_background": "light"
     },
     "output_type": "display_data"
    },
    {
     "data": {
      "text/html": [
       "test_connect_corner: uid 122, ports [], aliases [], 0 polygons, 72 references"
      ],
      "text/plain": [
       "test_connect_corner: uid 122, ports [], aliases [], 0 polygons, 72 references"
      ]
     },
     "execution_count": 20,
     "metadata": {},
     "output_type": "execute_result"
    }
   ],
   "source": [
    "import gdsfactory as gf\n",
    "from gdsfactory.cell import cell\n",
    "from gdsfactory.component import Component\n",
    "from gdsfactory.port import Port\n",
    "\n",
    "\n",
    "@cell\n",
    "def test_connect_corner(N=6, config=\"A\"):\n",
    "    d = 10.0\n",
    "    sep = 5.0\n",
    "    top_cell = gf.Component(name=\"connect_corner\")\n",
    "    layer = (1, 0)\n",
    "\n",
    "    if config in [\"A\", \"B\"]:\n",
    "        a = 100.0\n",
    "        ports_A_TR = [\n",
    "            Port(\n",
    "                f\"A_TR_{i}\",\n",
    "                midpoint=(d, a / 2 + i * sep),\n",
    "                width=0.5,\n",
    "                orientation=0,\n",
    "                layer=layer,\n",
    "            )\n",
    "            for i in range(N)\n",
    "        ]\n",
    "\n",
    "        ports_A_TL = [\n",
    "            Port(\n",
    "                f\"A_TL_{i}\",\n",
    "                midpoint=(-d, a / 2 + i * sep),\n",
    "                width=0.5,\n",
    "                orientation=180,\n",
    "                layer=layer,\n",
    "            )\n",
    "            for i in range(N)\n",
    "        ]\n",
    "\n",
    "        ports_A_BR = [\n",
    "            Port(\n",
    "                f\"A_BR_{i}\",\n",
    "                midpoint=(d, -a / 2 - i * sep),\n",
    "                width=0.5,\n",
    "                orientation=0,\n",
    "                layer=layer,\n",
    "            )\n",
    "            for i in range(N)\n",
    "        ]\n",
    "\n",
    "        ports_A_BL = [\n",
    "            Port(\n",
    "                f\"A_BL_{i}\",\n",
    "                midpoint=(-d, -a / 2 - i * sep),\n",
    "                width=0.5,\n",
    "                orientation=180,\n",
    "                layer=layer,\n",
    "            )\n",
    "            for i in range(N)\n",
    "        ]\n",
    "\n",
    "        ports_A = [ports_A_TR, ports_A_TL, ports_A_BR, ports_A_BL]\n",
    "\n",
    "        ports_B_TR = [\n",
    "            Port(\n",
    "                f\"B_TR_{i}\",\n",
    "                midpoint=(a / 2 + i * sep, d),\n",
    "                width=0.5,\n",
    "                orientation=90,\n",
    "                layer=layer,\n",
    "            )\n",
    "            for i in range(N)\n",
    "        ]\n",
    "\n",
    "        ports_B_TL = [\n",
    "            Port(\n",
    "                f\"B_TL_{i}\",\n",
    "                midpoint=(-a / 2 - i * sep, d),\n",
    "                width=0.5,\n",
    "                orientation=90,\n",
    "                layer=layer,\n",
    "            )\n",
    "            for i in range(N)\n",
    "        ]\n",
    "\n",
    "        ports_B_BR = [\n",
    "            Port(\n",
    "                f\"B_BR_{i}\",\n",
    "                midpoint=(a / 2 + i * sep, -d),\n",
    "                width=0.5,\n",
    "                orientation=270,\n",
    "                layer=layer,\n",
    "            )\n",
    "            for i in range(N)\n",
    "        ]\n",
    "\n",
    "        ports_B_BL = [\n",
    "            Port(\n",
    "                f\"B_BL_{i}\",\n",
    "                midpoint=(-a / 2 - i * sep, -d),\n",
    "                width=0.5,\n",
    "                orientation=270,\n",
    "                layer=layer,\n",
    "            )\n",
    "            for i in range(N)\n",
    "        ]\n",
    "\n",
    "        ports_B = [ports_B_TR, ports_B_TL, ports_B_BR, ports_B_BL]\n",
    "\n",
    "    elif config in [\"C\", \"D\"]:\n",
    "        a = N * sep + 2 * d\n",
    "        ports_A_TR = [\n",
    "            Port(\n",
    "                f\"A_TR_{i}\",\n",
    "                midpoint=(a, d + i * sep),\n",
    "                width=0.5,\n",
    "                orientation=0,\n",
    "                layer=layer,\n",
    "            )\n",
    "            for i in range(N)\n",
    "        ]\n",
    "\n",
    "        ports_A_TL = [\n",
    "            Port(\n",
    "                f\"A_TL_{i}\",\n",
    "                midpoint=(-a, d + i * sep),\n",
    "                width=0.5,\n",
    "                orientation=180,\n",
    "                layer=layer,\n",
    "            )\n",
    "            for i in range(N)\n",
    "        ]\n",
    "\n",
    "        ports_A_BR = [\n",
    "            Port(\n",
    "                f\"A_BR_{i}\",\n",
    "                midpoint=(a, -d - i * sep),\n",
    "                width=0.5,\n",
    "                orientation=0,\n",
    "                layer=layer,\n",
    "            )\n",
    "            for i in range(N)\n",
    "        ]\n",
    "\n",
    "        ports_A_BL = [\n",
    "            Port(\n",
    "                f\"A_BL_{i}\",\n",
    "                midpoint=(-a, -d - i * sep),\n",
    "                width=0.5,\n",
    "                orientation=180,\n",
    "                layer=layer,\n",
    "            )\n",
    "            for i in range(N)\n",
    "        ]\n",
    "\n",
    "        ports_A = [ports_A_TR, ports_A_TL, ports_A_BR, ports_A_BL]\n",
    "\n",
    "        ports_B_TR = [\n",
    "            Port(\n",
    "                f\"B_TR_{i}\",\n",
    "                midpoint=(d + i * sep, a),\n",
    "                width=0.5,\n",
    "                orientation=90,\n",
    "                layer=layer,\n",
    "            )\n",
    "            for i in range(N)\n",
    "        ]\n",
    "\n",
    "        ports_B_TL = [\n",
    "            Port(\n",
    "                f\"B_TL_{i}\",\n",
    "                midpoint=(-d - i * sep, a),\n",
    "                width=0.5,\n",
    "                orientation=90,\n",
    "                layer=layer,\n",
    "            )\n",
    "            for i in range(N)\n",
    "        ]\n",
    "\n",
    "        ports_B_BR = [\n",
    "            Port(\n",
    "                f\"B_BR_{i}\",\n",
    "                midpoint=(d + i * sep, -a),\n",
    "                width=0.5,\n",
    "                orientation=270,\n",
    "                layer=layer,\n",
    "            )\n",
    "            for i in range(N)\n",
    "        ]\n",
    "\n",
    "        ports_B_BL = [\n",
    "            Port(\n",
    "                f\"B_BL_{i}\",\n",
    "                midpoint=(-d - i * sep, -a),\n",
    "                width=0.5,\n",
    "                orientation=270,\n",
    "                layer=layer,\n",
    "            )\n",
    "            for i in range(N)\n",
    "        ]\n",
    "\n",
    "        ports_B = [ports_B_TR, ports_B_TL, ports_B_BR, ports_B_BL]\n",
    "\n",
    "    if config in [\"A\", \"C\"]:\n",
    "        for ports1, ports2 in zip(ports_A, ports_B):\n",
    "            routes = gf.routing.get_bundle(ports1, ports2, layer=(2, 0), radius=5)\n",
    "            for route in routes:\n",
    "                top_cell.add(route.references)\n",
    "\n",
    "    elif config in [\"B\", \"D\"]:\n",
    "        for ports1, ports2 in zip(ports_A, ports_B):\n",
    "            routes = gf.routing.get_bundle(ports2, ports1, layer=(2, 0), radius=5)\n",
    "            for route in routes:\n",
    "                top_cell.add(route.references)\n",
    "\n",
    "    return top_cell\n",
    "\n",
    "\n",
    "c = test_connect_corner(config=\"A\")\n",
    "c"
   ]
  },
  {
   "cell_type": "code",
   "execution_count": 21,
   "metadata": {
    "execution": {
     "iopub.execute_input": "2022-05-31T23:06:49.057245Z",
     "iopub.status.busy": "2022-05-31T23:06:49.056741Z",
     "iopub.status.idle": "2022-05-31T23:06:49.395111Z",
     "shell.execute_reply": "2022-05-31T23:06:49.394089Z"
    }
   },
   "outputs": [
    {
     "data": {
      "image/png": "[encoded data removed]",
      "text/plain": [
       "<Figure size 432x288 with 1 Axes>"
      ]
     },
     "metadata": {
      "needs_background": "light"
     },
     "output_type": "display_data"
    },
    {
     "data": {
      "text/html": [
       "test_connect_corner_b9a80b65: uid 137, ports [], aliases [], 0 polygons, 168 references"
      ],
      "text/plain": [
       "test_connect_corner_b9a80b65: uid 137, ports [], aliases [], 0 polygons, 168 references"
      ]
     },
     "execution_count": 21,
     "metadata": {},
     "output_type": "execute_result"
    }
   ],
   "source": [
    "c = test_connect_corner(config=\"C\")\n",
    "c"
   ]
  },
  {
   "cell_type": "code",
   "execution_count": 22,
   "metadata": {
    "execution": {
     "iopub.execute_input": "2022-05-31T23:06:49.399255Z",
     "iopub.status.busy": "2022-05-31T23:06:49.398045Z",
     "iopub.status.idle": "2022-05-31T23:06:49.633747Z",
     "shell.execute_reply": "2022-05-31T23:06:49.633245Z"
    }
   },
   "outputs": [
    {
     "data": {
      "image/png": "[encoded data removed]",
      "text/plain": [
       "<Figure size 432x288 with 1 Axes>"
      ]
     },
     "metadata": {
      "needs_background": "light"
     },
     "output_type": "display_data"
    },
    {
     "data": {
      "text/html": [
       "test_connect_bundle_udirect: uid 154, ports [], aliases [], 0 polygons, 50 references"
      ],
      "text/plain": [
       "test_connect_bundle_udirect: uid 154, ports [], aliases [], 0 polygons, 50 references"
      ]
     },
     "execution_count": 22,
     "metadata": {},
     "output_type": "execute_result"
    }
   ],
   "source": [
    "@cell\n",
    "def test_connect_bundle_udirect(dy=200, angle=270, layer=(1, 0)):\n",
    "\n",
    "    xs1 = [-100, -90, -80, -55, -35, 24, 0] + [200, 210, 240]\n",
    "\n",
    "    axis = \"X\" if angle in [0, 180] else \"Y\"\n",
    "\n",
    "    pitch = 10.0\n",
    "    N = len(xs1)\n",
    "    xs2 = [70 + i * pitch for i in range(N)]\n",
    "\n",
    "    if axis == \"X\":\n",
    "        ports1 = [\n",
    "            Port(f\"top_{i}\", (0, xs1[i]), 0.5, angle, layer=layer) for i in range(N)\n",
    "        ]\n",
    "\n",
    "        ports2 = [\n",
    "            Port(f\"bottom_{i}\", (dy, xs2[i]), 0.5, angle, layer=layer) for i in range(N)\n",
    "        ]\n",
    "\n",
    "    else:\n",
    "        ports1 = [\n",
    "            Port(f\"top_{i}\", (xs1[i], 0), 0.5, angle, layer=layer) for i in range(N)\n",
    "        ]\n",
    "\n",
    "        ports2 = [\n",
    "            Port(f\"bottom_{i}\", (xs2[i], dy), 0.5, angle, layer=layer) for i in range(N)\n",
    "        ]\n",
    "\n",
    "    top_cell = Component(name=\"connect_bundle_udirect\")\n",
    "    routes = gf.routing.get_bundle(ports1, ports2, radius=10.0)\n",
    "    for route in routes:\n",
    "        top_cell.add(route.references)\n",
    "\n",
    "    return top_cell\n",
    "\n",
    "\n",
    "c = test_connect_bundle_udirect()\n",
    "c"
   ]
  },
  {
   "cell_type": "code",
   "execution_count": 23,
   "metadata": {
    "execution": {
     "iopub.execute_input": "2022-05-31T23:06:49.637198Z",
     "iopub.status.busy": "2022-05-31T23:06:49.636790Z",
     "iopub.status.idle": "2022-05-31T23:06:50.044553Z",
     "shell.execute_reply": "2022-05-31T23:06:50.043791Z"
    }
   },
   "outputs": [
    {
     "data": {
      "image/png": "[encoded data removed]",
      "text/plain": [
       "<Figure size 432x288 with 1 Axes>"
      ]
     },
     "metadata": {
      "needs_background": "light"
     },
     "output_type": "display_data"
    },
    {
     "data": {
      "text/html": [
       "test_connect_bundle_u_i_aec8a81c: uid 197, ports [], aliases [], 0 polygons, 72 references"
      ],
      "text/plain": [
       "test_connect_bundle_u_i_aec8a81c: uid 197, ports [], aliases [], 0 polygons, 72 references"
      ]
     },
     "execution_count": 23,
     "metadata": {},
     "output_type": "execute_result"
    }
   ],
   "source": [
    "@cell\n",
    "def test_connect_bundle_u_indirect(dy=-200, angle=180, layer=(1, 0)):\n",
    "    xs1 = [-100, -90, -80, -55, -35] + [200, 210, 240]\n",
    "    axis = \"X\" if angle in [0, 180] else \"Y\"\n",
    "    pitch = 10.0\n",
    "    N = len(xs1)\n",
    "    xs2 = [50 + i * pitch for i in range(N)]\n",
    "\n",
    "    a1 = angle\n",
    "    a2 = a1 + 180\n",
    "\n",
    "    if axis == \"X\":\n",
    "        ports1 = [Port(f\"top_{i}\", (0, xs1[i]), 0.5, a1, layer=layer) for i in range(N)]\n",
    "\n",
    "        ports2 = [\n",
    "            Port(f\"bot_{i}\", (dy, xs2[i]), 0.5, a2, layer=layer) for i in range(N)\n",
    "        ]\n",
    "\n",
    "    else:\n",
    "        ports1 = [Port(f\"top_{i}\", (xs1[i], 0), 0.5, a1, layer=layer) for i in range(N)]\n",
    "\n",
    "        ports2 = [\n",
    "            Port(f\"bot_{i}\", (xs2[i], dy), 0.5, a2, layer=layer) for i in range(N)\n",
    "        ]\n",
    "\n",
    "    top_cell = Component(\"connect_bundle_u_indirect\")\n",
    "    routes = gf.routing.get_bundle(\n",
    "        ports1,\n",
    "        ports2,\n",
    "        bend=gf.components.bend_euler,\n",
    "        radius=5,\n",
    "    )\n",
    "    for route in routes:\n",
    "        top_cell.add(route.references)\n",
    "\n",
    "    return top_cell\n",
    "\n",
    "\n",
    "c = test_connect_bundle_u_indirect(angle=0)\n",
    "c"
   ]
  },
  {
   "cell_type": "code",
   "execution_count": 24,
   "metadata": {
    "execution": {
     "iopub.execute_input": "2022-05-31T23:06:50.047621Z",
     "iopub.status.busy": "2022-05-31T23:06:50.047074Z",
     "iopub.status.idle": "2022-05-31T23:06:50.294307Z",
     "shell.execute_reply": "2022-05-31T23:06:50.293715Z"
    }
   },
   "outputs": [
    {
     "data": {
      "image/png": "[encoded data removed]",
      "text/plain": [
       "<Figure size 432x288 with 1 Axes>"
      ]
     },
     "metadata": {
      "needs_background": "light"
     },
     "output_type": "display_data"
    },
    {
     "data": {
      "text/html": [
       "test_north_to_south: uid 254, ports [], aliases [], 0 polygons, 60 references"
      ],
      "text/plain": [
       "test_north_to_south: uid 254, ports [], aliases [], 0 polygons, 60 references"
      ]
     },
     "execution_count": 24,
     "metadata": {},
     "output_type": "execute_result"
    }
   ],
   "source": [
    "import gdsfactory as gf\n",
    "\n",
    "\n",
    "@gf.cell\n",
    "def test_north_to_south(layer=(1, 0)):\n",
    "    dy = 200.0\n",
    "    xs1 = [-500, -300, -100, -90, -80, -55, -35, 200, 210, 240, 500, 650]\n",
    "\n",
    "    pitch = 10.0\n",
    "    N = len(xs1)\n",
    "    xs2 = [-20 + i * pitch for i in range(N // 2)]\n",
    "    xs2 += [400 + i * pitch for i in range(N // 2)]\n",
    "\n",
    "    a1 = 90\n",
    "    a2 = a1 + 180\n",
    "\n",
    "    ports1 = [gf.Port(f\"top_{i}\", (xs1[i], 0), 0.5, a1, layer=layer) for i in range(N)]\n",
    "\n",
    "    ports2 = [gf.Port(f\"bot_{i}\", (xs2[i], dy), 0.5, a2, layer=layer) for i in range(N)]\n",
    "\n",
    "    c = gf.Component()\n",
    "    routes = gf.routing.get_bundle(ports1, ports2, auto_widen=False)\n",
    "    for route in routes:\n",
    "        c.add(route.references)\n",
    "\n",
    "    return c\n",
    "\n",
    "\n",
    "c = test_north_to_south()\n",
    "c"
   ]
  },
  {
   "cell_type": "code",
   "execution_count": 25,
   "metadata": {
    "execution": {
     "iopub.execute_input": "2022-05-31T23:06:50.297720Z",
     "iopub.status.busy": "2022-05-31T23:06:50.297196Z",
     "iopub.status.idle": "2022-05-31T23:06:51.929926Z",
     "shell.execute_reply": "2022-05-31T23:06:51.929285Z"
    }
   },
   "outputs": [
    {
     "data": {
      "image/png": "[encoded data removed]",
      "text/plain": [
       "<Figure size 432x288 with 1 Axes>"
      ]
     },
     "metadata": {
      "needs_background": "light"
     },
     "output_type": "display_data"
    },
    {
     "data": {
      "text/html": [
       "connect_bundle: uid 293, ports [], aliases [], 0 polygons, 20 references"
      ],
      "text/plain": [
       "connect_bundle: uid 293, ports [], aliases [], 0 polygons, 20 references"
      ]
     },
     "execution_count": 25,
     "metadata": {},
     "output_type": "execute_result"
    }
   ],
   "source": [
    "def demo_connect_bundle():\n",
    "    \"\"\"combines all the connect_bundle tests\"\"\"\n",
    "    y = 400.0\n",
    "    x = 500\n",
    "    y0 = 900\n",
    "    dy = 200.0\n",
    "    c = gf.Component(\"connect_bundle\")\n",
    "    for j, s in enumerate([-1, 1]):\n",
    "        for i, angle in enumerate([0, 90, 180, 270]):\n",
    "            ci = test_connect_bundle_u_indirect(dy=s * dy, angle=angle)\n",
    "            ref = ci.ref(position=(i * x, j * y))\n",
    "            c.add(ref)\n",
    "\n",
    "            ci = test_connect_bundle_udirect(dy=s * dy, angle=angle)\n",
    "            ref = ci.ref(position=(i * x, j * y + y0))\n",
    "            c.add(ref)\n",
    "\n",
    "    for i, config in enumerate([\"A\", \"B\", \"C\", \"D\"]):\n",
    "        ci = test_connect_corner(config=config)\n",
    "        ref = ci.ref(position=(i * x, 1700))\n",
    "        c.add(ref)\n",
    "\n",
    "    return c\n",
    "\n",
    "\n",
    "c = demo_connect_bundle()\n",
    "c"
   ]
  },
  {
   "cell_type": "code",
   "execution_count": 26,
   "metadata": {
    "execution": {
     "iopub.execute_input": "2022-05-31T23:06:51.933787Z",
     "iopub.status.busy": "2022-05-31T23:06:51.933198Z",
     "iopub.status.idle": "2022-05-31T23:06:52.068753Z",
     "shell.execute_reply": "2022-05-31T23:06:52.068260Z"
    }
   },
   "outputs": [
    {
     "data": {
      "image/png": "[encoded data removed]",
      "text/plain": [
       "<Figure size 432x288 with 1 Axes>"
      ]
     },
     "metadata": {
      "needs_background": "light"
     },
     "output_type": "display_data"
    },
    {
     "data": {
      "text/html": [
       "route_bend_5um: uid 392, ports [], aliases [], 0 polygons, 12 references"
      ],
      "text/plain": [
       "route_bend_5um: uid 392, ports [], aliases [], 0 polygons, 12 references"
      ]
     },
     "execution_count": 26,
     "metadata": {},
     "output_type": "execute_result"
    }
   ],
   "source": [
    "import gdsfactory as gf\n",
    "\n",
    "c = gf.Component(\"route_bend_5um\")\n",
    "c1 = c << gf.components.mmi2x2()\n",
    "c2 = c << gf.components.mmi2x2()\n",
    "\n",
    "c2.move((100, 50))\n",
    "routes = gf.routing.get_bundle(\n",
    "    [c1.ports[\"o4\"], c1.ports[\"o3\"]], [c2.ports[\"o1\"], c2.ports[\"o2\"]], radius=5\n",
    ")\n",
    "for route in routes:\n",
    "    c.add(route.references)\n",
    "c"
   ]
  },
  {
   "cell_type": "code",
   "execution_count": 27,
   "metadata": {
    "execution": {
     "iopub.execute_input": "2022-05-31T23:06:52.071968Z",
     "iopub.status.busy": "2022-05-31T23:06:52.071536Z",
     "iopub.status.idle": "2022-05-31T23:06:52.188396Z",
     "shell.execute_reply": "2022-05-31T23:06:52.187919Z"
    }
   },
   "outputs": [
    {
     "data": {
      "image/png": "[encoded data removed]",
      "text/plain": [
       "<Figure size 432x288 with 1 Axes>"
      ]
     },
     "metadata": {
      "needs_background": "light"
     },
     "output_type": "display_data"
    },
    {
     "data": {
      "text/html": [
       "electrical: uid 400, ports [], aliases [], 0 polygons, 7 references"
      ],
      "text/plain": [
       "electrical: uid 400, ports [], aliases [], 0 polygons, 7 references"
      ]
     },
     "execution_count": 27,
     "metadata": {},
     "output_type": "execute_result"
    }
   ],
   "source": [
    "import gdsfactory as gf\n",
    "\n",
    "c = gf.Component(\"electrical\")\n",
    "c1 = c << gf.components.pad()\n",
    "c2 = c << gf.components.pad()\n",
    "c2.move((200, 100))\n",
    "routes = gf.routing.get_bundle(\n",
    "    [c1.ports[\"e3\"]], [c2.ports[\"e1\"]], cross_section=gf.cross_section.metal1\n",
    ")\n",
    "for route in routes:\n",
    "    c.add(route.references)\n",
    "c"
   ]
  },
  {
   "cell_type": "code",
   "execution_count": 28,
   "metadata": {
    "execution": {
     "iopub.execute_input": "2022-05-31T23:06:52.191327Z",
     "iopub.status.busy": "2022-05-31T23:06:52.190899Z",
     "iopub.status.idle": "2022-05-31T23:06:52.366858Z",
     "shell.execute_reply": "2022-05-31T23:06:52.366359Z"
    }
   },
   "outputs": [
    {
     "data": {
      "image/png": "[encoded data removed]",
      "text/plain": [
       "<Figure size 432x288 with 1 Axes>"
      ]
     },
     "metadata": {
      "needs_background": "light"
     },
     "output_type": "display_data"
    },
    {
     "data": {
      "text/html": [
       "get_bundle_with_ubends_bend_from_top: uid 409, ports [], aliases [], 0 polygons, 26 references"
      ],
      "text/plain": [
       "get_bundle_with_ubends_bend_from_top: uid 409, ports [], aliases [], 0 polygons, 26 references"
      ]
     },
     "execution_count": 28,
     "metadata": {},
     "output_type": "execute_result"
    }
   ],
   "source": [
    "c = gf.Component(\"get_bundle_with_ubends_bend_from_top\")\n",
    "pad_array = gf.components.pad_array()\n",
    "\n",
    "c1 = c << pad_array\n",
    "c2 = c << pad_array\n",
    "c2.rotate(90)\n",
    "c2.movex(1000)\n",
    "c2.ymax = -200\n",
    "\n",
    "routes_bend180 = gf.routing.get_routes_bend180(\n",
    "    ports=c2.get_ports_list(),\n",
    "    radius=75 / 2,\n",
    "    cross_section=gf.cross_section.metal1,\n",
    "    bend_port1=\"e1\",\n",
    "    bend_port2=\"e2\",\n",
    ")\n",
    "c.add(routes_bend180.references)\n",
    "\n",
    "routes = gf.routing.get_bundle(\n",
    "    c1.get_ports_list(), routes_bend180.ports, cross_section=gf.cross_section.metal1\n",
    ")\n",
    "for route in routes:\n",
    "    c.add(route.references)\n",
    "c"
   ]
  },
  {
   "cell_type": "code",
   "execution_count": 29,
   "metadata": {
    "execution": {
     "iopub.execute_input": "2022-05-31T23:06:52.370139Z",
     "iopub.status.busy": "2022-05-31T23:06:52.369785Z",
     "iopub.status.idle": "2022-05-31T23:06:52.520435Z",
     "shell.execute_reply": "2022-05-31T23:06:52.519949Z"
    }
   },
   "outputs": [
    {
     "data": {
      "image/png": "[encoded data removed]",
      "text/plain": [
       "<Figure size 432x288 with 1 Axes>"
      ]
     },
     "metadata": {
      "needs_background": "light"
     },
     "output_type": "display_data"
    },
    {
     "data": {
      "text/html": [
       "get_bundle_with_ubends_bend_from_bottom: uid 437, ports [], aliases [], 0 polygons, 26 references"
      ],
      "text/plain": [
       "get_bundle_with_ubends_bend_from_bottom: uid 437, ports [], aliases [], 0 polygons, 26 references"
      ]
     },
     "execution_count": 29,
     "metadata": {},
     "output_type": "execute_result"
    }
   ],
   "source": [
    "c = gf.Component(\"get_bundle_with_ubends_bend_from_bottom\")\n",
    "pad_array = gf.components.pad_array()\n",
    "\n",
    "c1 = c << pad_array\n",
    "c2 = c << pad_array\n",
    "c2.rotate(90)\n",
    "c2.movex(1000)\n",
    "c2.ymax = -200\n",
    "\n",
    "routes_bend180 = gf.routing.get_routes_bend180(\n",
    "    ports=c2.get_ports_list(),\n",
    "    radius=75 / 2,\n",
    "    cross_section=gf.cross_section.metal1,\n",
    "    bend_port1=\"e2\",\n",
    "    bend_port2=\"e1\",\n",
    ")\n",
    "c.add(routes_bend180.references)\n",
    "\n",
    "routes = gf.routing.get_bundle(\n",
    "    c1.get_ports_list(), routes_bend180.ports, cross_section=gf.cross_section.metal1\n",
    ")\n",
    "for route in routes:\n",
    "    c.add(route.references)\n",
    "c"
   ]
  },
  {
   "cell_type": "markdown",
   "metadata": {},
   "source": [
    "**Problem**\n",
    "\n",
    "Sometimes 90 degrees routes do not have enough space for a Manhattan route"
   ]
  },
  {
   "cell_type": "code",
   "execution_count": 30,
   "metadata": {
    "execution": {
     "iopub.execute_input": "2022-05-31T23:06:52.524929Z",
     "iopub.status.busy": "2022-05-31T23:06:52.523673Z",
     "iopub.status.idle": "2022-05-31T23:06:52.629885Z",
     "shell.execute_reply": "2022-05-31T23:06:52.629389Z"
    }
   },
   "outputs": [
    {
     "data": {
      "image/png": "[encoded data removed]",
      "text/plain": [
       "<Figure size 432x288 with 1 Axes>"
      ]
     },
     "metadata": {
      "needs_background": "light"
     },
     "output_type": "display_data"
    },
    {
     "data": {
      "text/html": [
       "route_fail_1: uid 440, ports [], aliases [], 0 polygons, 2 references"
      ],
      "text/plain": [
       "route_fail_1: uid 440, ports [], aliases [], 0 polygons, 2 references"
      ]
     },
     "execution_count": 30,
     "metadata": {},
     "output_type": "execute_result"
    }
   ],
   "source": [
    "import gdsfactory as gf\n",
    "\n",
    "c = gf.Component(\"route_fail_1\")\n",
    "c1 = c << gf.components.nxn(east=3, ysize=20)\n",
    "c2 = c << gf.components.nxn(west=3)\n",
    "c2.move((80, 0))\n",
    "c"
   ]
  },
  {
   "cell_type": "code",
   "execution_count": 31,
   "metadata": {
    "execution": {
     "iopub.execute_input": "2022-05-31T23:06:52.633690Z",
     "iopub.status.busy": "2022-05-31T23:06:52.632679Z",
     "iopub.status.idle": "2022-05-31T23:06:52.779611Z",
     "shell.execute_reply": "2022-05-31T23:06:52.779115Z"
    }
   },
   "outputs": [
    {
     "data": {
      "image/png": "[encoded data removed]",
      "text/plain": [
       "<Figure size 432x288 with 1 Axes>"
      ]
     },
     "metadata": {
      "needs_background": "light"
     },
     "output_type": "display_data"
    },
    {
     "data": {
      "text/html": [
       "route_fail_1: uid 447, ports [], aliases [], 0 polygons, 21 references"
      ],
      "text/plain": [
       "route_fail_1: uid 447, ports [], aliases [], 0 polygons, 21 references"
      ]
     },
     "execution_count": 31,
     "metadata": {},
     "output_type": "execute_result"
    }
   ],
   "source": [
    "import gdsfactory as gf\n",
    "\n",
    "c = gf.Component(\"route_fail_1\")\n",
    "c1 = c << gf.components.nxn(east=3, ysize=20)\n",
    "c2 = c << gf.components.nxn(west=3)\n",
    "c2.move((80, 0))\n",
    "routes = gf.routing.get_bundle(\n",
    "    c1.get_ports_list(orientation=0),\n",
    "    c2.get_ports_list(orientation=180),\n",
    "    auto_widen=False,\n",
    ")\n",
    "for route in routes:\n",
    "    c.add(route.references)\n",
    "c"
   ]
  },
  {
   "cell_type": "code",
   "execution_count": 32,
   "metadata": {
    "execution": {
     "iopub.execute_input": "2022-05-31T23:06:52.783683Z",
     "iopub.status.busy": "2022-05-31T23:06:52.782671Z",
     "iopub.status.idle": "2022-05-31T23:06:52.930008Z",
     "shell.execute_reply": "2022-05-31T23:06:52.929513Z"
    }
   },
   "outputs": [
    {
     "data": {
      "image/png": "[encoded data removed]",
      "text/plain": [
       "<Figure size 432x288 with 1 Axes>"
      ]
     },
     "metadata": {
      "needs_background": "light"
     },
     "output_type": "display_data"
    },
    {
     "data": {
      "text/html": [
       "route_fail_2: uid 459, ports [], aliases [], 0 polygons, 19 references"
      ],
      "text/plain": [
       "route_fail_2: uid 459, ports [], aliases [], 0 polygons, 19 references"
      ]
     },
     "execution_count": 32,
     "metadata": {},
     "output_type": "execute_result"
    }
   ],
   "source": [
    "c = gf.Component(\"route_fail_2\")\n",
    "pitch = 2.0\n",
    "ys_left = [0, 10, 20]\n",
    "N = len(ys_left)\n",
    "ys_right = [(i - N / 2) * pitch for i in range(N)]\n",
    "layer = (1, 0)\n",
    "\n",
    "right_ports = [\n",
    "    gf.Port(f\"R_{i}\", (0, ys_right[i]), 0.5, 180, layer=layer) for i in range(N)\n",
    "]\n",
    "left_ports = [\n",
    "    gf.Port(f\"L_{i}\", (-50, ys_left[i]), 0.5, 0, layer=layer) for i in range(N)\n",
    "]\n",
    "left_ports.reverse()\n",
    "routes = gf.routing.get_bundle(right_ports, left_ports, radius=5)\n",
    "\n",
    "for route in routes:\n",
    "    c.add(route.references)\n",
    "c"
   ]
  },
  {
   "cell_type": "markdown",
   "metadata": {},
   "source": [
    "**Solution**\n",
    "\n",
    "Add Sbend routes using `get_bundle_sbend`"
   ]
  },
  {
   "cell_type": "code",
   "execution_count": 33,
   "metadata": {
    "execution": {
     "iopub.execute_input": "2022-05-31T23:06:52.932952Z",
     "iopub.status.busy": "2022-05-31T23:06:52.932550Z",
     "iopub.status.idle": "2022-05-31T23:06:53.049712Z",
     "shell.execute_reply": "2022-05-31T23:06:53.049230Z"
    }
   },
   "outputs": [
    {
     "name": "stderr",
     "output_type": "stream",
     "text": [
      "/home/runner/work/gdsfactory/gdsfactory/gdsfactory/components/bezier.py:99: RuntimeWarning: divide by zero encountered in double_scalars\n",
      "  min_bend_radius = gf.snap.snap_to_grid(1 / max(np.abs(curv)))\n"
     ]
    },
    {
     "data": {
      "image/png": "[encoded data removed]",
      "text/plain": [
       "<Figure size 432x288 with 1 Axes>"
      ]
     },
     "metadata": {
      "needs_background": "light"
     },
     "output_type": "display_data"
    },
    {
     "data": {
      "text/html": [
       "route_solution_1_get_bundle_sbend: uid 466, ports [], aliases [], 0 polygons, 5 references"
      ],
      "text/plain": [
       "route_solution_1_get_bundle_sbend: uid 466, ports [], aliases [], 0 polygons, 5 references"
      ]
     },
     "execution_count": 33,
     "metadata": {},
     "output_type": "execute_result"
    }
   ],
   "source": [
    "import gdsfactory as gf\n",
    "\n",
    "c = gf.Component(\"route_solution_1_get_bundle_sbend\")\n",
    "c1 = c << gf.components.nxn(east=3, ysize=20)\n",
    "c2 = c << gf.components.nxn(west=3)\n",
    "c2.move((80, 0))\n",
    "routes = gf.routing.get_bundle_sbend(\n",
    "    c1.get_ports_list(orientation=0), c2.get_ports_list(orientation=180)\n",
    ")\n",
    "c.add(routes.references)\n",
    "c"
   ]
  },
  {
   "cell_type": "code",
   "execution_count": 34,
   "metadata": {
    "execution": {
     "iopub.execute_input": "2022-05-31T23:06:53.052433Z",
     "iopub.status.busy": "2022-05-31T23:06:53.052030Z",
     "iopub.status.idle": "2022-05-31T23:06:53.056186Z",
     "shell.execute_reply": "2022-05-31T23:06:53.055726Z"
    }
   },
   "outputs": [
    {
     "data": {
      "text/plain": [
       "Routes(references=[DeviceReference (parent Device \"bezier_08c93533_bend_s_e3a1bb7b\", ports ['o1', 'o2'], origin [8.   1.25], rotation 0, x_reflection False), DeviceReference (parent Device \"bezier_6f3b5e6e_bend_s_6340bc13\", ports ['o1', 'o2'], origin [ 8. 10.], rotation 0, x_reflection False), DeviceReference (parent Device \"bezier_5a820ac3_bend_s_7425fec2\", ports ['o1', 'o2'], origin [ 8.   18.75], rotation 0, x_reflection False)], lengths=[72.0, 72.354, 73.398], ports=None, bend_radius=[inf, 159.432, 83.82])"
      ]
     },
     "execution_count": 34,
     "metadata": {},
     "output_type": "execute_result"
    }
   ],
   "source": [
    "routes"
   ]
  },
  {
   "cell_type": "code",
   "execution_count": 35,
   "metadata": {
    "execution": {
     "iopub.execute_input": "2022-05-31T23:06:53.058610Z",
     "iopub.status.busy": "2022-05-31T23:06:53.058400Z",
     "iopub.status.idle": "2022-05-31T23:06:53.072266Z",
     "shell.execute_reply": "2022-05-31T23:06:53.071715Z"
    }
   },
   "outputs": [],
   "source": [
    "c = gf.Component(\"route_solution_2_get_bundle_sbend\")\n",
    "route = gf.routing.get_bundle_sbend(right_ports, left_ports)\n",
    "c.add(route.references)"
   ]
  },
  {
   "cell_type": "markdown",
   "metadata": {},
   "source": [
    "## get_bundle_from_waypoints\n",
    "\n",
    "While `get_bundle` routes bundles of ports automatically, you can also use `get_bundle_from_waypoints` to manually specify the route waypoints.\n",
    "\n",
    "You can think of `get_bundle_from_waypoints` as a manual version of `get_bundle`\n"
   ]
  },
  {
   "cell_type": "code",
   "execution_count": 36,
   "metadata": {
    "execution": {
     "iopub.execute_input": "2022-05-31T23:06:53.075095Z",
     "iopub.status.busy": "2022-05-31T23:06:53.074891Z",
     "iopub.status.idle": "2022-05-31T23:06:53.390363Z",
     "shell.execute_reply": "2022-05-31T23:06:53.389712Z"
    }
   },
   "outputs": [
    {
     "data": {
      "image/png": "[encoded data removed]",
      "text/plain": [
       "<Figure size 432x288 with 1 Axes>"
      ]
     },
     "metadata": {
      "needs_background": "light"
     },
     "output_type": "display_data"
    },
    {
     "data": {
      "text/html": [
       "test_connect_bundle_waypoints: uid 486, ports ['A_0', 'A_1', 'A_2', 'A_3', 'A_4', 'A_5', 'A_6', 'A_7', 'B_0', 'B_1', 'B_2', 'B_3', 'B_4', 'B_5', 'B_6', 'B_7'], aliases [], 0 polygons, 72 references"
      ],
      "text/plain": [
       "test_connect_bundle_waypoints: uid 486, ports ['A_0', 'A_1', 'A_2', 'A_3', 'A_4', 'A_5', 'A_6', 'A_7', 'B_0', 'B_1', 'B_2', 'B_3', 'B_4', 'B_5', 'B_6', 'B_7'], aliases [], 0 polygons, 72 references"
      ]
     },
     "execution_count": 36,
     "metadata": {},
     "output_type": "execute_result"
    }
   ],
   "source": [
    "import numpy as np\n",
    "import gdsfactory as gf\n",
    "\n",
    "\n",
    "@gf.cell\n",
    "def test_connect_bundle_waypoints(layer=(1, 0)):\n",
    "    \"\"\"Connect bundle of ports with bundle of routes following a list of waypoints.\"\"\"\n",
    "    ys1 = np.array([0, 5, 10, 15, 30, 40, 50, 60]) + 0.0\n",
    "    ys2 = np.array([0, 10, 20, 30, 70, 90, 110, 120]) + 500.0\n",
    "    N = ys1.size\n",
    "\n",
    "    ports1 = [\n",
    "        gf.Port(\n",
    "            name=f\"A_{i}\", midpoint=(0, ys1[i]), width=0.5, orientation=0, layer=layer\n",
    "        )\n",
    "        for i in range(N)\n",
    "    ]\n",
    "    ports2 = [\n",
    "        gf.Port(\n",
    "            name=f\"B_{i}\",\n",
    "            midpoint=(500, ys2[i]),\n",
    "            width=0.5,\n",
    "            orientation=180,\n",
    "            layer=layer,\n",
    "        )\n",
    "        for i in range(N)\n",
    "    ]\n",
    "\n",
    "    p0 = ports1[0].position\n",
    "\n",
    "    c = gf.Component(\"B\")\n",
    "    c.add_ports(ports1)\n",
    "    c.add_ports(ports2)\n",
    "    waypoints = [\n",
    "        p0 + (200, 0),\n",
    "        p0 + (200, -200),\n",
    "        p0 + (400, -200),\n",
    "        (p0[0] + 400, ports2[0].y),\n",
    "    ]\n",
    "\n",
    "    routes = gf.routing.get_bundle_from_waypoints(ports1, ports2, waypoints)\n",
    "    lengths = {}\n",
    "    for i, route in enumerate(routes):\n",
    "        c.add(route.references)\n",
    "        lengths[i] = route.length\n",
    "\n",
    "    return c\n",
    "\n",
    "\n",
    "cell = test_connect_bundle_waypoints()\n",
    "cell"
   ]
  },
  {
   "cell_type": "code",
   "execution_count": 37,
   "metadata": {
    "execution": {
     "iopub.execute_input": "2022-05-31T23:06:53.393415Z",
     "iopub.status.busy": "2022-05-31T23:06:53.393182Z",
     "iopub.status.idle": "2022-05-31T23:06:53.663716Z",
     "shell.execute_reply": "2022-05-31T23:06:53.663123Z"
    }
   },
   "outputs": [
    {
     "name": "stderr",
     "output_type": "stream",
     "text": [
      "/home/runner/work/gdsfactory/gdsfactory/gdsfactory/component.py:1021: UserWarning: Component 'Unnamed_4d502e70' contains 1 Unnamed cells\n",
      "  warnings.warn(\n"
     ]
    },
    {
     "data": {
      "image/png": "[encoded data removed]",
      "text/plain": [
       "<Figure size 432x288 with 1 Axes>"
      ]
     },
     "metadata": {
      "needs_background": "light"
     },
     "output_type": "display_data"
    },
    {
     "data": {
      "text/html": [
       "Unnamed_4d502e70: uid 529, ports [], aliases [], 0 polygons, 13 references"
      ],
      "text/plain": [
       "Unnamed_4d502e70: uid 529, ports [], aliases [], 0 polygons, 13 references"
      ]
     },
     "execution_count": 37,
     "metadata": {},
     "output_type": "execute_result"
    }
   ],
   "source": [
    "import numpy as np\n",
    "import gdsfactory as gf\n",
    "\n",
    "c = gf.Component()\n",
    "r = c << gf.components.array(\n",
    "    component=gf.components.straight, rows=2, columns=1, spacing=(0, 20)\n",
    ")\n",
    "\n",
    "r.movex(60)\n",
    "r.movey(40)\n",
    "\n",
    "lt = c << gf.components.straight(length=15)\n",
    "lb = c << gf.components.straight(length=5)\n",
    "lt.movey(5)\n",
    "\n",
    "ports1 = lt.get_ports_list(orientation=0) + lb.get_ports_list(orientation=0)\n",
    "ports2 = r.get_ports_list(orientation=180)\n",
    "\n",
    "\n",
    "dx = 20\n",
    "p0 = ports1[0].midpoint + (dx, 0)\n",
    "p1 = (ports1[0].midpoint[0] + dx, ports2[0].midpoint[1])\n",
    "waypoints = (p0, p1)\n",
    "\n",
    "routes = gf.routing.get_bundle_from_waypoints(ports1, ports2, waypoints=waypoints)\n",
    "for route in routes:\n",
    "    c.add(route.references)\n",
    "c"
   ]
  },
  {
   "cell_type": "markdown",
   "metadata": {},
   "source": [
    "## get_bundle_from_steps"
   ]
  },
  {
   "cell_type": "code",
   "execution_count": 38,
   "metadata": {
    "execution": {
     "iopub.execute_input": "2022-05-31T23:06:53.667153Z",
     "iopub.status.busy": "2022-05-31T23:06:53.666922Z",
     "iopub.status.idle": "2022-05-31T23:06:53.805759Z",
     "shell.execute_reply": "2022-05-31T23:06:53.805258Z"
    }
   },
   "outputs": [
    {
     "data": {
      "image/png": "[encoded data removed]",
      "text/plain": [
       "<Figure size 432x288 with 1 Axes>"
      ]
     },
     "metadata": {
      "needs_background": "light"
     },
     "output_type": "display_data"
    },
    {
     "data": {
      "text/html": [
       "get_route_from_steps_sample: uid 538, ports [], aliases [], 0 polygons, 17 references"
      ],
      "text/plain": [
       "get_route_from_steps_sample: uid 538, ports [], aliases [], 0 polygons, 17 references"
      ]
     },
     "execution_count": 38,
     "metadata": {},
     "output_type": "execute_result"
    }
   ],
   "source": [
    "import gdsfactory as gf\n",
    "\n",
    "c = gf.Component(\"get_route_from_steps_sample\")\n",
    "w = gf.components.array(\n",
    "    gf.partial(gf.components.straight, layer=(2, 0)),\n",
    "    rows=3,\n",
    "    columns=1,\n",
    "    spacing=(0, 50),\n",
    ")\n",
    "\n",
    "left = c << w\n",
    "right = c << w\n",
    "right.move((200, 100))\n",
    "p1 = left.get_ports_list(orientation=0)\n",
    "p2 = right.get_ports_list(orientation=180)\n",
    "\n",
    "routes = gf.routing.get_bundle_from_steps(\n",
    "    p1,\n",
    "    p2,\n",
    "    steps=[{\"x\": 150}],\n",
    ")\n",
    "\n",
    "for route in routes:\n",
    "    c.add(route.references)\n",
    "\n",
    "c"
   ]
  },
  {
   "cell_type": "markdown",
   "metadata": {},
   "source": [
    "## get_bundle_path_length_match\n",
    "\n",
    "Sometimes you need to set up a route a bundle of ports that need to keep the same lengths"
   ]
  },
  {
   "cell_type": "code",
   "execution_count": 39,
   "metadata": {
    "execution": {
     "iopub.execute_input": "2022-05-31T23:06:53.810022Z",
     "iopub.status.busy": "2022-05-31T23:06:53.808997Z",
     "iopub.status.idle": "2022-05-31T23:06:54.202367Z",
     "shell.execute_reply": "2022-05-31T23:06:54.201409Z"
    }
   },
   "outputs": [
    {
     "name": "stdout",
     "output_type": "stream",
     "text": [
      "2659.822\n",
      "2659.822\n",
      "2659.822\n",
      "2659.822\n",
      "2659.822\n",
      "2659.822\n",
      "2659.822\n",
      "2659.822\n",
      "2659.822\n",
      "2659.822\n",
      "2659.822\n",
      "2659.822\n"
     ]
    },
    {
     "data": {
      "image/png": "[encoded data removed]",
      "text/plain": [
       "<Figure size 432x288 with 1 Axes>"
      ]
     },
     "metadata": {
      "needs_background": "light"
     },
     "output_type": "display_data"
    },
    {
     "data": {
      "text/html": [
       "path_length_match_sample: uid 547, ports [], aliases [], 0 polygons, 130 references"
      ],
      "text/plain": [
       "path_length_match_sample: uid 547, ports [], aliases [], 0 polygons, 130 references"
      ]
     },
     "execution_count": 39,
     "metadata": {},
     "output_type": "execute_result"
    }
   ],
   "source": [
    "import gdsfactory as gf\n",
    "\n",
    "c = gf.Component(\"path_length_match_sample\")\n",
    "dy = 2000.0\n",
    "xs1 = [-500, -300, -100, -90, -80, -55, -35, 200, 210, 240, 500, 650]\n",
    "\n",
    "pitch = 100.0\n",
    "N = len(xs1)\n",
    "xs2 = [-20 + i * pitch for i in range(N)]\n",
    "\n",
    "a1 = 90\n",
    "a2 = a1 + 180\n",
    "layer = (1, 0)\n",
    "\n",
    "ports1 = [gf.Port(f\"top_{i}\", (xs1[i], 0), 0.5, a1, layer=layer) for i in range(N)]\n",
    "ports2 = [gf.Port(f\"bot_{i}\", (xs2[i], dy), 0.5, a2, layer=layer) for i in range(N)]\n",
    "\n",
    "routes = gf.routing.get_bundle_path_length_match(ports1, ports2)\n",
    "\n",
    "for route in routes:\n",
    "    c.add(route.references)\n",
    "    print(route.length)\n",
    "c"
   ]
  },
  {
   "cell_type": "markdown",
   "metadata": {},
   "source": [
    "### Add extra length\n",
    "\n",
    "You can also add some extra length to all the routes"
   ]
  },
  {
   "cell_type": "code",
   "execution_count": 40,
   "metadata": {
    "execution": {
     "iopub.execute_input": "2022-05-31T23:06:54.205429Z",
     "iopub.status.busy": "2022-05-31T23:06:54.205205Z",
     "iopub.status.idle": "2022-05-31T23:06:54.593512Z",
     "shell.execute_reply": "2022-05-31T23:06:54.592870Z"
    }
   },
   "outputs": [
    {
     "name": "stdout",
     "output_type": "stream",
     "text": [
      "2703.822\n",
      "2703.822\n",
      "2703.822\n",
      "2703.822\n",
      "2703.822\n",
      "2703.822\n",
      "2703.822\n",
      "2703.822\n",
      "2703.822\n",
      "2703.822\n",
      "2703.822\n",
      "2703.822\n"
     ]
    },
    {
     "data": {
      "image/png": "[encoded data removed]",
      "text/plain": [
       "<Figure size 432x288 with 1 Axes>"
      ]
     },
     "metadata": {
      "needs_background": "light"
     },
     "output_type": "display_data"
    },
    {
     "data": {
      "text/html": [
       "path_length_match_sample: uid 619, ports [], aliases [], 0 polygons, 132 references"
      ],
      "text/plain": [
       "path_length_match_sample: uid 619, ports [], aliases [], 0 polygons, 132 references"
      ]
     },
     "execution_count": 40,
     "metadata": {},
     "output_type": "execute_result"
    }
   ],
   "source": [
    "import gdsfactory as gf\n",
    "\n",
    "c = gf.Component(\"path_length_match_sample\")\n",
    "\n",
    "dy = 2000.0\n",
    "xs1 = [-500, -300, -100, -90, -80, -55, -35, 200, 210, 240, 500, 650]\n",
    "\n",
    "pitch = 100.0\n",
    "N = len(xs1)\n",
    "xs2 = [-20 + i * pitch for i in range(N)]\n",
    "\n",
    "a1 = 90\n",
    "a2 = a1 + 180\n",
    "layer = (1, 0)\n",
    "\n",
    "ports1 = [gf.Port(f\"top_{i}\", (xs1[i], 0), 0.5, a1, layer=layer) for i in range(N)]\n",
    "ports2 = [gf.Port(f\"bot_{i}\", (xs2[i], dy), 0.5, a2, layer=layer) for i in range(N)]\n",
    "\n",
    "routes = gf.routing.get_bundle_path_length_match(ports1, ports2, extra_length=44)\n",
    "for route in routes:\n",
    "    c.add(route.references)\n",
    "    print(route.length)\n",
    "c"
   ]
  },
  {
   "cell_type": "markdown",
   "metadata": {},
   "source": [
    "### increase number of loops\n",
    "\n",
    "You can also increase the number of loops"
   ]
  },
  {
   "cell_type": "code",
   "execution_count": 41,
   "metadata": {
    "execution": {
     "iopub.execute_input": "2022-05-31T23:06:54.596508Z",
     "iopub.status.busy": "2022-05-31T23:06:54.596149Z",
     "iopub.status.idle": "2022-05-31T23:06:55.083505Z",
     "shell.execute_reply": "2022-05-31T23:06:55.082695Z"
    }
   },
   "outputs": [
    {
     "name": "stdout",
     "output_type": "stream",
     "text": [
      "3586.37\n",
      "3586.37\n",
      "3586.37\n",
      "3586.37\n",
      "3586.37\n",
      "3586.37\n",
      "3586.37\n",
      "3586.37\n",
      "3586.37\n",
      "3586.37\n",
      "3586.37\n",
      "3586.37\n"
     ]
    },
    {
     "data": {
      "image/png": "[encoded data removed]",
      "text/plain": [
       "<Figure size 432x288 with 1 Axes>"
      ]
     },
     "metadata": {
      "needs_background": "light"
     },
     "output_type": "display_data"
    },
    {
     "data": {
      "text/html": [
       "path_length_match_sample: uid 686, ports [], aliases [], 0 polygons, 200 references"
      ],
      "text/plain": [
       "path_length_match_sample: uid 686, ports [], aliases [], 0 polygons, 200 references"
      ]
     },
     "execution_count": 41,
     "metadata": {},
     "output_type": "execute_result"
    }
   ],
   "source": [
    "c = gf.Component(\"path_length_match_sample\")\n",
    "\n",
    "dy = 2000.0\n",
    "xs1 = [-500, -300, -100, -90, -80, -55, -35, 200, 210, 240, 500, 650]\n",
    "\n",
    "pitch = 200.0\n",
    "N = len(xs1)\n",
    "xs2 = [-20 + i * pitch for i in range(N)]\n",
    "\n",
    "a1 = 90\n",
    "a2 = a1 + 180\n",
    "layer = (1, 0)\n",
    "\n",
    "ports1 = [gf.Port(f\"top_{i}\", (xs1[i], 0), 0.5, a1, layer=layer) for i in range(N)]\n",
    "ports2 = [gf.Port(f\"bot_{i}\", (xs2[i], dy), 0.5, a2, layer=layer) for i in range(N)]\n",
    "\n",
    "routes = gf.routing.get_bundle_path_length_match(\n",
    "    ports1, ports2, nb_loops=2, auto_widen=False\n",
    ")\n",
    "for route in routes:\n",
    "    c.add(route.references)\n",
    "    print(route.length)\n",
    "c"
   ]
  },
  {
   "cell_type": "code",
   "execution_count": 42,
   "metadata": {
    "execution": {
     "iopub.execute_input": "2022-05-31T23:06:55.086628Z",
     "iopub.status.busy": "2022-05-31T23:06:55.086193Z",
     "iopub.status.idle": "2022-05-31T23:06:55.284964Z",
     "shell.execute_reply": "2022-05-31T23:06:55.284435Z"
    }
   },
   "outputs": [
    {
     "name": "stderr",
     "output_type": "stream",
     "text": [
      "/home/runner/work/gdsfactory/gdsfactory/gdsfactory/component.py:1021: UserWarning: Component 'Unnamed_ffef9d8e' contains 1 Unnamed cells\n",
      "  warnings.warn(\n"
     ]
    },
    {
     "data": {
      "image/png": "[encoded data removed]",
      "text/plain": [
       "<Figure size 432x288 with 1 Axes>"
      ]
     },
     "metadata": {
      "needs_background": "light"
     },
     "output_type": "display_data"
    },
    {
     "data": {
      "text/html": [
       "Unnamed_ffef9d8e: uid 753, ports [], aliases [], 0 polygons, 42 references"
      ],
      "text/plain": [
       "Unnamed_ffef9d8e: uid 753, ports [], aliases [], 0 polygons, 42 references"
      ]
     },
     "execution_count": 42,
     "metadata": {},
     "output_type": "execute_result"
    }
   ],
   "source": [
    "# Problem, sometimes when you do path length matching you need to increase the separation\n",
    "import gdsfactory as gf\n",
    "\n",
    "c = gf.Component()\n",
    "c1 = c << gf.components.straight_array(spacing=90)\n",
    "c2 = c << gf.components.straight_array(spacing=5)\n",
    "c2.movex(200)\n",
    "c1.y = 0\n",
    "c2.y = 0\n",
    "\n",
    "routes = gf.routing.get_bundle_path_length_match(\n",
    "    c1.get_ports_list(orientation=0),\n",
    "    c2.get_ports_list(orientation=180),\n",
    "    end_straight_length=0,\n",
    "    start_straight_length=0,\n",
    "    separation=30,\n",
    "    radius=5,\n",
    ")\n",
    "\n",
    "for route in routes:\n",
    "    c.add(route.references)\n",
    "c"
   ]
  },
  {
   "cell_type": "code",
   "execution_count": 43,
   "metadata": {
    "execution": {
     "iopub.execute_input": "2022-05-31T23:06:55.288283Z",
     "iopub.status.busy": "2022-05-31T23:06:55.287842Z",
     "iopub.status.idle": "2022-05-31T23:06:55.472998Z",
     "shell.execute_reply": "2022-05-31T23:06:55.472475Z"
    }
   },
   "outputs": [
    {
     "name": "stderr",
     "output_type": "stream",
     "text": [
      "/home/runner/work/gdsfactory/gdsfactory/gdsfactory/component.py:1021: UserWarning: Component 'Unnamed_5dd87913' contains 1 Unnamed cells\n",
      "  warnings.warn(\n"
     ]
    },
    {
     "data": {
      "image/png": "[encoded data removed]",
      "text/plain": [
       "<Figure size 432x288 with 1 Axes>"
      ]
     },
     "metadata": {
      "needs_background": "light"
     },
     "output_type": "display_data"
    },
    {
     "data": {
      "text/html": [
       "Unnamed_5dd87913: uid 771, ports [], aliases [], 0 polygons, 42 references"
      ],
      "text/plain": [
       "Unnamed_5dd87913: uid 771, ports [], aliases [], 0 polygons, 42 references"
      ]
     },
     "execution_count": 43,
     "metadata": {},
     "output_type": "execute_result"
    }
   ],
   "source": [
    "# Solution: increase separation\n",
    "import gdsfactory as gf\n",
    "\n",
    "c = gf.Component()\n",
    "c1 = c << gf.components.straight_array(spacing=90)\n",
    "c2 = c << gf.components.straight_array(spacing=5)\n",
    "c2.movex(200)\n",
    "c1.y = 0\n",
    "c2.y = 0\n",
    "\n",
    "routes = gf.routing.get_bundle_path_length_match(\n",
    "    c1.get_ports_list(orientation=0),\n",
    "    c2.get_ports_list(orientation=180),\n",
    "    end_straight_length=0,\n",
    "    start_straight_length=0,\n",
    "    separation=80,  # increased\n",
    "    radius=5,\n",
    ")\n",
    "\n",
    "for route in routes:\n",
    "    c.add(route.references)\n",
    "c"
   ]
  },
  {
   "cell_type": "markdown",
   "metadata": {},
   "source": [
    "## Route to IO (Pads, grating couplers ...)\n",
    "\n",
    "\n",
    "### Route to electrical pads"
   ]
  },
  {
   "cell_type": "code",
   "execution_count": 44,
   "metadata": {
    "execution": {
     "iopub.execute_input": "2022-05-31T23:06:55.476415Z",
     "iopub.status.busy": "2022-05-31T23:06:55.475976Z",
     "iopub.status.idle": "2022-05-31T23:06:55.631473Z",
     "shell.execute_reply": "2022-05-31T23:06:55.630974Z"
    }
   },
   "outputs": [
    {
     "data": {
      "image/png": "[encoded data removed]",
      "text/plain": [
       "<Figure size 432x288 with 1 Axes>"
      ]
     },
     "metadata": {
      "needs_background": "light"
     },
     "output_type": "display_data"
    },
    {
     "data": {
      "text/html": [
       "straight_heater_metal_u_3ff09402: uid 784, ports ['o1', 'o2', 'e1', 'e2'], aliases [], 0 polygons, 5 references"
      ],
      "text/plain": [
       "straight_heater_metal_u_3ff09402: uid 784, ports ['o1', 'o2', 'e1', 'e2'], aliases [], 0 polygons, 5 references"
      ]
     },
     "execution_count": 44,
     "metadata": {},
     "output_type": "execute_result"
    }
   ],
   "source": [
    "import gdsfactory as gf\n",
    "\n",
    "mzi = gf.components.straight_heater_metal(length=30)\n",
    "mzi"
   ]
  },
  {
   "cell_type": "code",
   "execution_count": 45,
   "metadata": {
    "execution": {
     "iopub.execute_input": "2022-05-31T23:06:55.634765Z",
     "iopub.status.busy": "2022-05-31T23:06:55.634339Z",
     "iopub.status.idle": "2022-05-31T23:06:55.844567Z",
     "shell.execute_reply": "2022-05-31T23:06:55.844059Z"
    }
   },
   "outputs": [
    {
     "data": {
      "image/png": "[encoded data removed]",
      "text/plain": [
       "<Figure size 432x288 with 1 Axes>"
      ]
     },
     "metadata": {
      "needs_background": "light"
     },
     "output_type": "display_data"
    },
    {
     "data": {
      "text/html": [
       "mzi_5911ef5e_add_electr_dfbdf158: uid 803, ports ['o1', 'o2'], aliases [], 0 polygons, 4 references"
      ],
      "text/plain": [
       "mzi_5911ef5e_add_electr_dfbdf158: uid 803, ports ['o1', 'o2'], aliases [], 0 polygons, 4 references"
      ]
     },
     "execution_count": 45,
     "metadata": {},
     "output_type": "execute_result"
    }
   ],
   "source": [
    "import gdsfactory as gf\n",
    "\n",
    "mzi = gf.components.mzi_phase_shifter(\n",
    "    length_x=30, straight_x_top=gf.components.straight_heater_metal_90_90\n",
    ")\n",
    "mzi_te = gf.routing.add_electrical_pads_top(component=mzi, layer=(41, 0))\n",
    "mzi_te"
   ]
  },
  {
   "cell_type": "code",
   "execution_count": 46,
   "metadata": {
    "execution": {
     "iopub.execute_input": "2022-05-31T23:06:55.847905Z",
     "iopub.status.busy": "2022-05-31T23:06:55.847471Z",
     "iopub.status.idle": "2022-05-31T23:06:56.027827Z",
     "shell.execute_reply": "2022-05-31T23:06:56.027323Z"
    }
   },
   "outputs": [
    {
     "data": {
      "image/png": "[encoded data removed]",
      "text/plain": [
       "<Figure size 432x288 with 1 Axes>"
      ]
     },
     "metadata": {
      "needs_background": "light"
     },
     "output_type": "display_data"
    },
    {
     "data": {
      "text/html": [
       "straight_heater_metal_u_179fde40: uid 811, ports ['o1', 'o2'], aliases [], 2 polygons, 3 references"
      ],
      "text/plain": [
       "straight_heater_metal_u_179fde40: uid 811, ports ['o1', 'o2'], aliases [], 2 polygons, 3 references"
      ]
     },
     "execution_count": 46,
     "metadata": {},
     "output_type": "execute_result"
    }
   ],
   "source": [
    "import gdsfactory as gf\n",
    "\n",
    "hr = gf.components.straight_heater_metal()\n",
    "cc = gf.routing.add_electrical_pads_shortest(component=hr, layer=(41, 0))\n",
    "cc"
   ]
  },
  {
   "cell_type": "code",
   "execution_count": 47,
   "metadata": {
    "execution": {
     "iopub.execute_input": "2022-05-31T23:06:56.031175Z",
     "iopub.status.busy": "2022-05-31T23:06:56.030715Z",
     "iopub.status.idle": "2022-05-31T23:06:56.247079Z",
     "shell.execute_reply": "2022-05-31T23:06:56.246567Z"
    }
   },
   "outputs": [
    {
     "data": {
      "image/png": "[encoded data removed]",
      "text/plain": [
       "<Figure size 432x288 with 1 Axes>"
      ]
     },
     "metadata": {
      "needs_background": "light"
     },
     "output_type": "display_data"
    },
    {
     "data": {
      "text/html": [
       "mzi_78bded51_add_electr_970386c2: uid 821, ports ['o1', 'o2'], aliases [], 2 polygons, 3 references"
      ],
      "text/plain": [
       "mzi_78bded51_add_electr_970386c2: uid 821, ports ['o1', 'o2'], aliases [], 2 polygons, 3 references"
      ]
     },
     "execution_count": 47,
     "metadata": {},
     "output_type": "execute_result"
    }
   ],
   "source": [
    "# Problem: Sometimes the shortest path does not work well\n",
    "import gdsfactory as gf\n",
    "\n",
    "c = gf.components.mzi_phase_shifter_top_heater_metal(length_x=70)\n",
    "cc = gf.routing.add_electrical_pads_shortest(component=c, layer=(41, 0))\n",
    "cc"
   ]
  },
  {
   "cell_type": "code",
   "execution_count": 48,
   "metadata": {
    "execution": {
     "iopub.execute_input": "2022-05-31T23:06:56.250433Z",
     "iopub.status.busy": "2022-05-31T23:06:56.249972Z",
     "iopub.status.idle": "2022-05-31T23:06:56.538930Z",
     "shell.execute_reply": "2022-05-31T23:06:56.538408Z"
    }
   },
   "outputs": [
    {
     "data": {
      "image/png": "[encoded data removed]",
      "text/plain": [
       "<Figure size 432x288 with 1 Axes>"
      ]
     },
     "metadata": {
      "needs_background": "light"
     },
     "output_type": "display_data"
    },
    {
     "data": {
      "text/html": [
       "mzi_with_pads: uid 824, ports [], aliases [], 0 polygons, 2 references"
      ],
      "text/plain": [
       "mzi_with_pads: uid 824, ports [], aliases [], 0 polygons, 2 references"
      ]
     },
     "execution_count": 48,
     "metadata": {},
     "output_type": "execute_result"
    }
   ],
   "source": [
    "# Solution: you can use define the pads separate and route metal lines to them\n",
    "\n",
    "c = gf.Component(\"mzi_with_pads\")\n",
    "c1 = c << gf.components.mzi_phase_shifter_top_heater_metal(length_x=70)\n",
    "c2 = c << gf.components.pad_array(columns=2)\n",
    "\n",
    "c2.ymin = c1.ymax + 20\n",
    "c2.x = 0\n",
    "c1.x = 0\n",
    "c"
   ]
  },
  {
   "cell_type": "code",
   "execution_count": 49,
   "metadata": {
    "execution": {
     "iopub.execute_input": "2022-05-31T23:06:56.541584Z",
     "iopub.status.busy": "2022-05-31T23:06:56.541356Z",
     "iopub.status.idle": "2022-05-31T23:06:56.727269Z",
     "shell.execute_reply": "2022-05-31T23:06:56.726613Z"
    }
   },
   "outputs": [
    {
     "data": {
      "image/png": "[encoded data removed]",
      "text/plain": [
       "<Figure size 432x288 with 1 Axes>"
      ]
     },
     "metadata": {
      "needs_background": "light"
     },
     "output_type": "display_data"
    },
    {
     "data": {
      "text/html": [
       "mzi_with_pads: uid 825, ports [], aliases [], 0 polygons, 12 references"
      ],
      "text/plain": [
       "mzi_with_pads: uid 825, ports [], aliases [], 0 polygons, 12 references"
      ]
     },
     "execution_count": 49,
     "metadata": {},
     "output_type": "execute_result"
    }
   ],
   "source": [
    "c = gf.Component(\"mzi_with_pads\")\n",
    "c1 = c << gf.components.mzi_phase_shifter(\n",
    "    straight_x_top=gf.components.straight_heater_metal_90_90, length_x=70  # 150\n",
    ")\n",
    "c2 = c << gf.components.pad_array(columns=2, orientation=270)\n",
    "\n",
    "c2.ymin = c1.ymax + 30\n",
    "c2.x = 0\n",
    "c1.x = 0\n",
    "\n",
    "ports1 = c1.get_ports_list(port_type=\"electrical\")\n",
    "ports2 = c2.get_ports_list()\n",
    "\n",
    "routes = gf.routing.get_bundle(\n",
    "    ports1=ports1,\n",
    "    ports2=ports2,\n",
    "    cross_section=gf.cross_section.metal1,\n",
    "    width=10,\n",
    "    bend=gf.components.wire_corner,\n",
    ")\n",
    "for route in routes:\n",
    "    c.add(route.references)\n",
    "\n",
    "c"
   ]
  },
  {
   "cell_type": "markdown",
   "metadata": {},
   "source": [
    "### Route to Fiber Array\n",
    "\n",
    "Routing allows you to define routes to optical or electrical IO (grating couplers or electrical pads)"
   ]
  },
  {
   "cell_type": "code",
   "execution_count": 50,
   "metadata": {
    "attributes": {
     "classes": [],
     "id": "",
     "n": "1"
    },
    "execution": {
     "iopub.execute_input": "2022-05-31T23:06:56.730175Z",
     "iopub.status.busy": "2022-05-31T23:06:56.729814Z",
     "iopub.status.idle": "2022-05-31T23:06:57.920385Z",
     "shell.execute_reply": "2022-05-31T23:06:57.919399Z"
    }
   },
   "outputs": [
    {
     "data": {
      "image/png": "[encoded data removed]",
      "text/plain": [
       "<Figure size 432x288 with 1 Axes>"
      ]
     },
     "metadata": {
      "needs_background": "light"
     },
     "output_type": "display_data"
    },
    {
     "data": {
      "text/html": [
       "big_device_1c24dafe_add_ca9e8f41: uid 840, ports ['vertical_te_00', 'vertical_te_01', 'vertical_te_02', 'vertical_te_03', 'vertical_te_04', 'vertical_te_05', 'vertical_te_06', 'vertical_te_07', 'vertical_te_08', 'vertical_te_09', 'vertical_te_010', 'vertical_te_011', 'vertical_te_012', 'vertical_te_013', 'vertical_te_014', 'vertical_te_015', 'vertical_te_016', 'vertical_te_017', 'vertical_te_018', 'vertical_te_019', 'vertical_te_020', 'vertical_te_021', 'vertical_te_022', 'vertical_te_023', 'vertical_te_024', 'vertical_te_025', 'vertical_te_026', 'vertical_te_027', 'vertical_te_028', 'vertical_te_029', 'vertical_te_030', 'vertical_te_031', 'vertical_te_032', 'vertical_te_033', 'vertical_te_034', 'vertical_te_035', 'vertical_te_036', 'vertical_te_037', 'vertical_te_038', 'vertical_te_039', 'vertical_te_10', 'vertical_te_20'], aliases [], 0 polygons, 364 references"
      ],
      "text/plain": [
       "big_device_1c24dafe_add_ca9e8f41: uid 840, ports ['vertical_te_00', 'vertical_te_01', 'vertical_te_02', 'vertical_te_03', 'vertical_te_04', 'vertical_te_05', 'vertical_te_06', 'vertical_te_07', 'vertical_te_08', 'vertical_te_09', 'vertical_te_010', 'vertical_te_011', 'vertical_te_012', 'vertical_te_013', 'vertical_te_014', 'vertical_te_015', 'vertical_te_016', 'vertical_te_017', 'vertical_te_018', 'vertical_te_019', 'vertical_te_020', 'vertical_te_021', 'vertical_te_022', 'vertical_te_023', 'vertical_te_024', 'vertical_te_025', 'vertical_te_026', 'vertical_te_027', 'vertical_te_028', 'vertical_te_029', 'vertical_te_030', 'vertical_te_031', 'vertical_te_032', 'vertical_te_033', 'vertical_te_034', 'vertical_te_035', 'vertical_te_036', 'vertical_te_037', 'vertical_te_038', 'vertical_te_039', 'vertical_te_10', 'vertical_te_20'], aliases [], 0 polygons, 364 references"
      ]
     },
     "execution_count": 50,
     "metadata": {},
     "output_type": "execute_result"
    }
   ],
   "source": [
    "import numpy as np\n",
    "import gdsfactory as gf\n",
    "from gdsfactory import LAYER\n",
    "from gdsfactory import Port\n",
    "\n",
    "\n",
    "@gf.cell\n",
    "def big_device(w=400.0, h=400.0, N=16, port_pitch=15.0, layer=LAYER.WG, wg_width=0.5):\n",
    "    \"\"\"big component with N ports on each side\"\"\"\n",
    "    component = gf.Component()\n",
    "    p0 = np.array((0, 0))\n",
    "    dx = w / 2\n",
    "    dy = h / 2\n",
    "\n",
    "    points = [[dx, dy], [dx, -dy], [-dx, -dy], [-dx, dy]]\n",
    "    component.add_polygon(points, layer=layer)\n",
    "    port_params = {\"layer\": layer, \"width\": wg_width}\n",
    "    for i in range(N):\n",
    "        port = Port(\n",
    "            name=f\"W{i}\",\n",
    "            midpoint=p0 + (-dx, (i - N / 2) * port_pitch),\n",
    "            orientation=180,\n",
    "            **port_params,\n",
    "        )\n",
    "\n",
    "        component.add_port(port)\n",
    "\n",
    "    for i in range(N):\n",
    "        port = Port(\n",
    "            name=f\"E{i}\",\n",
    "            midpoint=p0 + (dx, (i - N / 2) * port_pitch),\n",
    "            orientation=0,\n",
    "            **port_params,\n",
    "        )\n",
    "\n",
    "        component.add_port(port)\n",
    "\n",
    "    for i in range(N):\n",
    "        port = Port(\n",
    "            name=f\"N{i}\",\n",
    "            midpoint=p0 + ((i - N / 2) * port_pitch, dy),\n",
    "            orientation=90,\n",
    "            **port_params,\n",
    "        )\n",
    "\n",
    "        component.add_port(port)\n",
    "\n",
    "    for i in range(N):\n",
    "        port = Port(\n",
    "            name=f\"S{i}\",\n",
    "            midpoint=p0 + ((i - N / 2) * port_pitch, -dy),\n",
    "            orientation=-90,\n",
    "            **port_params,\n",
    "        )\n",
    "\n",
    "        component.add_port(port)\n",
    "    return component\n",
    "\n",
    "\n",
    "component = big_device(N=10)\n",
    "c = gf.routing.add_fiber_array(component=component, radius=10.0, fanout_length=60.0)\n",
    "c"
   ]
  },
  {
   "cell_type": "code",
   "execution_count": 51,
   "metadata": {
    "execution": {
     "iopub.execute_input": "2022-05-31T23:06:57.923708Z",
     "iopub.status.busy": "2022-05-31T23:06:57.923463Z",
     "iopub.status.idle": "2022-05-31T23:06:58.194181Z",
     "shell.execute_reply": "2022-05-31T23:06:58.193350Z"
    }
   },
   "outputs": [
    {
     "data": {
      "image/png": "[encoded data removed]",
      "text/plain": [
       "<Figure size 432x288 with 1 Axes>"
      ]
     },
     "metadata": {
      "needs_background": "light"
     },
     "output_type": "display_data"
    },
    {
     "data": {
      "text/html": [
       "ring_double_8de26d73_ad_990a6e09: uid 1078, ports ['vertical_te_00', 'vertical_te_01', 'vertical_te_02', 'vertical_te_03', 'vertical_te_10', 'vertical_te_20'], aliases [], 0 polygons, 50 references"
      ],
      "text/plain": [
       "ring_double_8de26d73_ad_990a6e09: uid 1078, ports ['vertical_te_00', 'vertical_te_01', 'vertical_te_02', 'vertical_te_03', 'vertical_te_10', 'vertical_te_20'], aliases [], 0 polygons, 50 references"
      ]
     },
     "execution_count": 51,
     "metadata": {},
     "output_type": "execute_result"
    }
   ],
   "source": [
    "import gdsfactory as gf\n",
    "\n",
    "c = gf.components.ring_double(width=0.8)\n",
    "cc = gf.routing.add_fiber_array(component=c, taper_length=150)\n",
    "cc"
   ]
  },
  {
   "cell_type": "code",
   "execution_count": 52,
   "metadata": {
    "execution": {
     "iopub.execute_input": "2022-05-31T23:06:58.196987Z",
     "iopub.status.busy": "2022-05-31T23:06:58.196759Z",
     "iopub.status.idle": "2022-05-31T23:06:58.209806Z",
     "shell.execute_reply": "2022-05-31T23:06:58.209179Z"
    }
   },
   "outputs": [
    {
     "name": "stdout",
     "output_type": "stream",
     "text": [
      "name: ring_double_8de26d73_ad_990a6e09\n",
      "settings:\n",
      "  changed:\n",
      "    component:\n",
      "      name: ring_double_8de26d73\n",
      "      settings:\n",
      "        changed: &id001\n",
      "          width: 0.8\n",
      "        child: null\n",
      "        default: &id002\n",
      "          bend: null\n",
      "          coupler_ring:\n",
      "            function: coupler_ring\n",
      "          cross_section:\n",
      "            function: cross_section\n",
      "            settings:\n",
      "              add_bbox:\n",
      "                function: add_bbox_siepic\n",
      "              add_pins:\n",
      "                function: add_pins_siepic\n",
      "                settings:\n",
      "                  pin_length: 0.002\n",
      "              cladding_layers:\n",
      "              - DEVREC\n",
      "              cladding_offsets:\n",
      "              - 0\n",
      "          gap: 0.2\n",
      "          length_x: 0.01\n",
      "          length_y: 0.01\n",
      "          radius: 10\n",
      "          straight:\n",
      "            function: straight\n",
      "        full: &id003\n",
      "          bend: null\n",
      "          coupler_ring:\n",
      "            function: coupler_ring\n",
      "          cross_section:\n",
      "            function: cross_section\n",
      "            settings:\n",
      "              add_bbox:\n",
      "                function: add_bbox_siepic\n",
      "              add_pins:\n",
      "                function: add_pins_siepic\n",
      "                settings:\n",
      "                  pin_length: 0.002\n",
      "              cladding_layers:\n",
      "              - DEVREC\n",
      "              cladding_offsets:\n",
      "              - 0\n",
      "          gap: 0.2\n",
      "          length_x: 0.01\n",
      "          length_y: 0.01\n",
      "          radius: 10\n",
      "          straight:\n",
      "            function: straight\n",
      "          width: 0.8\n",
      "        function_name: ring_double\n",
      "        info: &id004 {}\n",
      "        info_version: 2\n",
      "        module: gdsfactory.components.ring_double\n",
      "        name: ring_double_8de26d73\n",
      "      version: 0.0.1\n",
      "    taper_length: 150\n",
      "  child:\n",
      "    changed:\n",
      "      width: 0.8\n",
      "    child: null\n",
      "    default:\n",
      "      bend: null\n",
      "      coupler_ring:\n",
      "        function: coupler_ring\n",
      "      cross_section:\n",
      "        function: cross_section\n",
      "        settings:\n",
      "          add_bbox:\n",
      "            function: add_bbox_siepic\n",
      "          add_pins:\n",
      "            function: add_pins_siepic\n",
      "            settings:\n",
      "              pin_length: 0.002\n",
      "          cladding_layers:\n",
      "          - DEVREC\n",
      "          cladding_offsets:\n",
      "          - 0\n",
      "      gap: 0.2\n",
      "      length_x: 0.01\n",
      "      length_y: 0.01\n",
      "      radius: 10\n",
      "      straight:\n",
      "        function: straight\n",
      "    full:\n",
      "      bend: null\n",
      "      coupler_ring:\n",
      "        function: coupler_ring\n",
      "      cross_section:\n",
      "        function: cross_section\n",
      "        settings:\n",
      "          add_bbox:\n",
      "            function: add_bbox_siepic\n",
      "          add_pins:\n",
      "            function: add_pins_siepic\n",
      "            settings:\n",
      "              pin_length: 0.002\n",
      "          cladding_layers:\n",
      "          - DEVREC\n",
      "          cladding_offsets:\n",
      "          - 0\n",
      "      gap: 0.2\n",
      "      length_x: 0.01\n",
      "      length_y: 0.01\n",
      "      radius: 10\n",
      "      straight:\n",
      "        function: straight\n",
      "      width: 0.8\n",
      "    function_name: ring_double\n",
      "    info: {}\n",
      "    info_version: 2\n",
      "    module: gdsfactory.components.ring_double\n",
      "    name: ring_double_8de26d73\n",
      "  default:\n",
      "    bend: bend_euler\n",
      "    component: mmi2x2\n",
      "    component_name: null\n",
      "    cross_section: strip\n",
      "    gc_port_labels: null\n",
      "    gc_port_name: o1\n",
      "    get_input_labels_function:\n",
      "      function: get_input_labels\n",
      "    grating_coupler:\n",
      "      function: grating_coupler_elliptical_trenches\n",
      "      settings:\n",
      "        polarization: te\n",
      "        taper_angle: 35\n",
      "    layer_label: TEXT\n",
      "    select_ports:\n",
      "      function: select_ports\n",
      "      settings:\n",
      "        port_type: optical\n",
      "    straight: straight\n",
      "  full:\n",
      "    bend: bend_euler\n",
      "    component:\n",
      "      name: ring_double_8de26d73\n",
      "      settings:\n",
      "        changed: *id001\n",
      "        child: null\n",
      "        default: *id002\n",
      "        full: *id003\n",
      "        function_name: ring_double\n",
      "        info: *id004\n",
      "        info_version: 2\n",
      "        module: gdsfactory.components.ring_double\n",
      "        name: ring_double_8de26d73\n",
      "      version: 0.0.1\n",
      "    component_name: null\n",
      "    cross_section: strip\n",
      "    gc_port_labels: null\n",
      "    gc_port_name: o1\n",
      "    get_input_labels_function:\n",
      "      function: get_input_labels\n",
      "    grating_coupler:\n",
      "      function: grating_coupler_elliptical_trenches\n",
      "      settings:\n",
      "        polarization: te\n",
      "        taper_angle: 35\n",
      "    layer_label: TEXT\n",
      "    select_ports:\n",
      "      function: select_ports\n",
      "      settings:\n",
      "        port_type: optical\n",
      "    straight: straight\n",
      "    taper_length: 150\n",
      "  function_name: add_fiber_array\n",
      "  info: {}\n",
      "  info_version: 2\n",
      "  module: gdsfactory.routing.add_fiber_array\n",
      "  name: ring_double_8de26d73_ad_990a6e09\n",
      "version: 0.0.1\n",
      "\n"
     ]
    }
   ],
   "source": [
    "cc.pprint()"
   ]
  },
  {
   "cell_type": "markdown",
   "metadata": {},
   "source": [
    "You can also mix and match `TE` and `TM` grating couplers"
   ]
  },
  {
   "cell_type": "code",
   "execution_count": 53,
   "metadata": {
    "execution": {
     "iopub.execute_input": "2022-05-31T23:06:58.212442Z",
     "iopub.status.busy": "2022-05-31T23:06:58.212232Z",
     "iopub.status.idle": "2022-05-31T23:06:58.492790Z",
     "shell.execute_reply": "2022-05-31T23:06:58.492078Z"
    }
   },
   "outputs": [
    {
     "data": {
      "image/png": "[encoded data removed]",
      "text/plain": [
       "<Figure size 432x288 with 1 Axes>"
      ]
     },
     "metadata": {
      "needs_background": "light"
     },
     "output_type": "display_data"
    },
    {
     "data": {
      "text/html": [
       "mzi_7a18d033_add_fiber__e81beca1: uid 1108, ports ['e1', 'e2', 'vertical_tm_00', 'vertical_te_01', 'vertical_tm_10', 'vertical_tm_20'], aliases [], 0 polygons, 32 references"
      ],
      "text/plain": [
       "mzi_7a18d033_add_fiber__e81beca1: uid 1108, ports ['e1', 'e2', 'vertical_tm_00', 'vertical_te_01', 'vertical_tm_10', 'vertical_tm_20'], aliases [], 0 polygons, 32 references"
      ]
     },
     "execution_count": 53,
     "metadata": {},
     "output_type": "execute_result"
    }
   ],
   "source": [
    "c = gf.components.mzi_phase_shifter()\n",
    "gcte = gf.components.grating_coupler_te\n",
    "gctm = gf.components.grating_coupler_tm\n",
    "\n",
    "cc = gf.routing.add_fiber_array(\n",
    "    component=c,\n",
    "    optical_routing_type=2,\n",
    "    grating_coupler=[gctm, gcte, gctm, gcte],\n",
    "    radius=20,\n",
    ")\n",
    "cc"
   ]
  },
  {
   "cell_type": "markdown",
   "metadata": {},
   "source": [
    "### Route to fiber single"
   ]
  },
  {
   "cell_type": "code",
   "execution_count": 54,
   "metadata": {
    "execution": {
     "iopub.execute_input": "2022-05-31T23:06:58.496355Z",
     "iopub.status.busy": "2022-05-31T23:06:58.495814Z",
     "iopub.status.idle": "2022-05-31T23:06:58.679462Z",
     "shell.execute_reply": "2022-05-31T23:06:58.678969Z"
    }
   },
   "outputs": [
    {
     "data": {
      "image/png": "[encoded data removed]",
      "text/plain": [
       "<Figure size 432x288 with 1 Axes>"
      ]
     },
     "metadata": {
      "needs_background": "light"
     },
     "output_type": "display_data"
    },
    {
     "data": {
      "text/html": [
       "ring_single_move_97d2b9_f24a6d84: uid 1128, ports ['vertical_te_00', 'vertical_te_1', 'loopback1', 'loopback2'], aliases [], 0 polygons, 8 references"
      ],
      "text/plain": [
       "ring_single_move_97d2b9_f24a6d84: uid 1128, ports ['vertical_te_00', 'vertical_te_1', 'loopback1', 'loopback2'], aliases [], 0 polygons, 8 references"
      ]
     },
     "execution_count": 54,
     "metadata": {},
     "output_type": "execute_result"
    }
   ],
   "source": [
    "import gdsfactory as gf\n",
    "\n",
    "c = gf.components.ring_single()\n",
    "cc = gf.routing.add_fiber_single(component=c)\n",
    "cc"
   ]
  },
  {
   "cell_type": "code",
   "execution_count": 55,
   "metadata": {
    "execution": {
     "iopub.execute_input": "2022-05-31T23:06:58.682318Z",
     "iopub.status.busy": "2022-05-31T23:06:58.681879Z",
     "iopub.status.idle": "2022-05-31T23:06:58.835643Z",
     "shell.execute_reply": "2022-05-31T23:06:58.835065Z"
    }
   },
   "outputs": [
    {
     "data": {
      "image/png": "[encoded data removed]",
      "text/plain": [
       "<Figure size 432x288 with 1 Axes>"
      ]
     },
     "metadata": {
      "needs_background": "light"
     },
     "output_type": "display_data"
    },
    {
     "data": {
      "text/html": [
       "ring_single_move_97d2b9_060c6fb1: uid 1137, ports ['vertical_te_00', 'vertical_te_1'], aliases [], 0 polygons, 5 references"
      ],
      "text/plain": [
       "ring_single_move_97d2b9_060c6fb1: uid 1137, ports ['vertical_te_00', 'vertical_te_1'], aliases [], 0 polygons, 5 references"
      ]
     },
     "execution_count": 55,
     "metadata": {},
     "output_type": "execute_result"
    }
   ],
   "source": [
    "import gdsfactory as gf\n",
    "\n",
    "c = gf.components.ring_single()\n",
    "cc = gf.routing.add_fiber_single(component=c, with_loopback=False)\n",
    "cc"
   ]
  },
  {
   "cell_type": "code",
   "execution_count": 56,
   "metadata": {
    "execution": {
     "iopub.execute_input": "2022-05-31T23:06:58.838334Z",
     "iopub.status.busy": "2022-05-31T23:06:58.837912Z",
     "iopub.status.idle": "2022-05-31T23:06:59.020632Z",
     "shell.execute_reply": "2022-05-31T23:06:59.019984Z"
    }
   },
   "outputs": [
    {
     "data": {
      "image/png": "[encoded data removed]",
      "text/plain": [
       "<Figure size 432x288 with 1 Axes>"
      ]
     },
     "metadata": {
      "needs_background": "light"
     },
     "output_type": "display_data"
    },
    {
     "data": {
      "text/html": [
       "mmi2x2_move_b00209b6_ad_d534314b: uid 1143, ports ['vertical_te_00', 'vertical_te_01', 'vertical_te_1', 'vertical_te_2'], aliases [], 0 polygons, 25 references"
      ],
      "text/plain": [
       "mmi2x2_move_b00209b6_ad_d534314b: uid 1143, ports ['vertical_te_00', 'vertical_te_01', 'vertical_te_1', 'vertical_te_2'], aliases [], 0 polygons, 25 references"
      ]
     },
     "execution_count": 56,
     "metadata": {},
     "output_type": "execute_result"
    }
   ],
   "source": [
    "c = gf.components.mmi2x2()\n",
    "cc = gf.routing.add_fiber_single(component=c, with_loopback=False)\n",
    "cc"
   ]
  },
  {
   "cell_type": "code",
   "execution_count": 57,
   "metadata": {
    "execution": {
     "iopub.execute_input": "2022-05-31T23:06:59.023469Z",
     "iopub.status.busy": "2022-05-31T23:06:59.023026Z",
     "iopub.status.idle": "2022-05-31T23:06:59.183460Z",
     "shell.execute_reply": "2022-05-31T23:06:59.182958Z"
    }
   },
   "outputs": [
    {
     "data": {
      "image/png": "[encoded data removed]",
      "text/plain": [
       "<Figure size 432x288 with 1 Axes>"
      ]
     },
     "metadata": {
      "needs_background": "light"
     },
     "output_type": "display_data"
    },
    {
     "data": {
      "text/html": [
       "mmi1x2_move_23539b35_ad_cfa476de: uid 1156, ports ['vertical_te_00', 'vertical_te_1', 'vertical_te_2'], aliases [], 0 polygons, 15 references"
      ],
      "text/plain": [
       "mmi1x2_move_23539b35_ad_cfa476de: uid 1156, ports ['vertical_te_00', 'vertical_te_1', 'vertical_te_2'], aliases [], 0 polygons, 15 references"
      ]
     },
     "execution_count": 57,
     "metadata": {},
     "output_type": "execute_result"
    }
   ],
   "source": [
    "c = gf.components.mmi1x2()\n",
    "cc = gf.routing.add_fiber_single(component=c, with_loopback=False, fiber_spacing=150)\n",
    "cc"
   ]
  },
  {
   "cell_type": "code",
   "execution_count": 58,
   "metadata": {
    "execution": {
     "iopub.execute_input": "2022-05-31T23:06:59.186225Z",
     "iopub.status.busy": "2022-05-31T23:06:59.185789Z",
     "iopub.status.idle": "2022-05-31T23:06:59.343281Z",
     "shell.execute_reply": "2022-05-31T23:06:59.342776Z"
    }
   },
   "outputs": [
    {
     "data": {
      "image/png": "[encoded data removed]",
      "text/plain": [
       "<Figure size 432x288 with 1 Axes>"
      ]
     },
     "metadata": {
      "needs_background": "light"
     },
     "output_type": "display_data"
    },
    {
     "data": {
      "text/html": [
       "mmi1x2_move_23539b35_ad_2083d0a7: uid 1165, ports ['vertical_te_00', 'vertical_te_1', 'vertical_te_2'], aliases [], 0 polygons, 15 references"
      ],
      "text/plain": [
       "mmi1x2_move_23539b35_ad_2083d0a7: uid 1165, ports ['vertical_te_00', 'vertical_te_1', 'vertical_te_2'], aliases [], 0 polygons, 15 references"
      ]
     },
     "execution_count": 58,
     "metadata": {},
     "output_type": "execute_result"
    }
   ],
   "source": [
    "c = gf.components.mmi1x2()\n",
    "cc = gf.routing.add_fiber_single(component=c, with_loopback=False, fiber_spacing=50)\n",
    "cc"
   ]
  },
  {
   "cell_type": "code",
   "execution_count": 59,
   "metadata": {
    "execution": {
     "iopub.execute_input": "2022-05-31T23:06:59.346034Z",
     "iopub.status.busy": "2022-05-31T23:06:59.345578Z",
     "iopub.status.idle": "2022-05-31T23:06:59.689244Z",
     "shell.execute_reply": "2022-05-31T23:06:59.688645Z"
    }
   },
   "outputs": [
    {
     "data": {
      "image/png": "[encoded data removed]",
      "text/plain": [
       "<Figure size 432x288 with 1 Axes>"
      ]
     },
     "metadata": {
      "needs_background": "light"
     },
     "output_type": "display_data"
    },
    {
     "data": {
      "text/html": [
       "crossing_move_5fbb1a97__7c0dc355: uid 1176, ports ['vertical_te_00', 'vertical_te_1', 'vertical_te_2', 'vertical_te_3'], aliases [], 0 polygons, 23 references"
      ],
      "text/plain": [
       "crossing_move_5fbb1a97__7c0dc355: uid 1176, ports ['vertical_te_00', 'vertical_te_1', 'vertical_te_2', 'vertical_te_3'], aliases [], 0 polygons, 23 references"
      ]
     },
     "execution_count": 59,
     "metadata": {},
     "output_type": "execute_result"
    }
   ],
   "source": [
    "c = gf.components.crossing()\n",
    "cc = gf.routing.add_fiber_single(component=c, with_loopback=False)\n",
    "cc"
   ]
  },
  {
   "cell_type": "code",
   "execution_count": 60,
   "metadata": {
    "execution": {
     "iopub.execute_input": "2022-05-31T23:06:59.692117Z",
     "iopub.status.busy": "2022-05-31T23:06:59.691672Z",
     "iopub.status.idle": "2022-05-31T23:06:59.893921Z",
     "shell.execute_reply": "2022-05-31T23:06:59.893338Z"
    }
   },
   "outputs": [
    {
     "data": {
      "image/png": "[encoded data removed]",
      "text/plain": [
       "<Figure size 432x288 with 1 Axes>"
      ]
     },
     "metadata": {
      "needs_background": "light"
     },
     "output_type": "display_data"
    },
    {
     "data": {
      "text/html": [
       "cross_9bc31ebd_move_a3a_fc48b898: uid 1195, ports ['vertical_te_00', 'vertical_te_1', 'vertical_te_2', 'vertical_te_3'], aliases [], 0 polygons, 23 references"
      ],
      "text/plain": [
       "cross_9bc31ebd_move_a3a_fc48b898: uid 1195, ports ['vertical_te_00', 'vertical_te_1', 'vertical_te_2', 'vertical_te_3'], aliases [], 0 polygons, 23 references"
      ]
     },
     "execution_count": 60,
     "metadata": {},
     "output_type": "execute_result"
    }
   ],
   "source": [
    "c = gf.components.cross(length=200, width=2, port_type=\"optical\")\n",
    "cc = gf.routing.add_fiber_single(component=c, with_loopback=False)\n",
    "cc"
   ]
  },
  {
   "cell_type": "code",
   "execution_count": 61,
   "metadata": {
    "execution": {
     "iopub.execute_input": "2022-05-31T23:06:59.897498Z",
     "iopub.status.busy": "2022-05-31T23:06:59.896989Z",
     "iopub.status.idle": "2022-05-31T23:07:00.589498Z",
     "shell.execute_reply": "2022-05-31T23:07:00.588915Z"
    }
   },
   "outputs": [
    {
     "data": {
      "image/png": "[encoded data removed]",
      "text/plain": [
       "<Figure size 432x288 with 1 Axes>"
      ]
     },
     "metadata": {
      "needs_background": "light"
     },
     "output_type": "display_data"
    },
    {
     "data": {
      "text/html": [
       "spiral_move_d4c326e7_ad_a5bac12d: uid 1212, ports ['vertical_te_0', 'vertical_te_1'], aliases [], 0 polygons, 3 references"
      ],
      "text/plain": [
       "spiral_move_d4c326e7_ad_a5bac12d: uid 1212, ports ['vertical_te_0', 'vertical_te_1'], aliases [], 0 polygons, 3 references"
      ]
     },
     "execution_count": 61,
     "metadata": {},
     "output_type": "execute_result"
    }
   ],
   "source": [
    "c = gf.components.spiral()\n",
    "cc = gf.routing.add_fiber_single(component=c, with_loopback=False)\n",
    "cc"
   ]
  }
 ],
 "metadata": {
  "kernelspec": {
   "display_name": "Python 3 (ipykernel)",
   "language": "python",
   "name": "python3"
  },
  "language_info": {
   "codemirror_mode": {
    "name": "ipython",
    "version": 3
   },
   "file_extension": ".py",
   "mimetype": "text/x-python",
   "name": "python",
   "nbconvert_exporter": "python",
   "pygments_lexer": "ipython3",
   "version": "3.9.13"
  }
 },
 "nbformat": 4,
 "nbformat_minor": 4
}
