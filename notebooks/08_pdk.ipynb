{
 "cells": [
  {
   "cell_type": "markdown",
   "metadata": {},
   "source": [
    "# PDK\n",
    "\n",
    "gdsfactory includes a generic PDK class. Only one PDK can be active at a time.\n",
    "\n",
    "The PDK allows you to register:\n",
    "- `cell` functions that return Components from a ComponentSpec (string, Component, ComponentFactory or dict)\n",
    "- `cross_section` functions that return CrossSection from a CrossSection Spec (string, CrossSection, CrossSectionFactory or dict)\n",
    "- `layers` that returns a GDS Layer from a string, an int or a Tuple[int, int]\n",
    "\n",
    "\n",
    "You can only have one active PDK at a time.\n",
    "Thanks to PDK you can access components, cross_sections or layers using a string.\n",
    "\n",
    "Depending on the active pdk:\n",
    "\n",
    "- `get_layer` returns a Layer from the registed layers.\n",
    "- `get_component` returns a Component from the registered cells or containers.\n",
    "- `get_cross_section` returns a CrossSection from the registered cross_sections."
   ]
  },
  {
   "cell_type": "markdown",
   "metadata": {},
   "source": [
    "## layers\n",
    "\n",
    "GDS layers are a tuple of two integer number `gdslayer/gdspurpose`\n",
    "\n",
    "The easiest way to define your layermap is using a Klayout `lyp` file to generate the layers code."
   ]
  },
  {
   "cell_type": "code",
   "execution_count": 1,
   "metadata": {
    "execution": {
     "iopub.execute_input": "2022-05-31T23:07:41.983233Z",
     "iopub.status.busy": "2022-05-31T23:07:41.982534Z",
     "iopub.status.idle": "2022-05-31T23:07:44.047566Z",
     "shell.execute_reply": "2022-05-31T23:07:44.046520Z"
    }
   },
   "outputs": [
    {
     "name": "stderr",
     "output_type": "stream",
     "text": [
      "2022-05-31 23:07:42.825 | INFO     | gdsfactory.config:<module>:52 - Load '/home/runner/work/gdsfactory/gdsfactory/gdsfactory' 5.8.3\n"
     ]
    },
    {
     "name": "stdout",
     "output_type": "stream",
     "text": [
      "\n",
      "from pydantic import BaseModel\n",
      "from gdsfactory.types import Layer\n",
      "\n",
      "\n",
      "class LayerMap(BaseModel):\n",
      "    CAPACITOR: Layer = (42, 0)\n",
      "    DEEPETCH: Layer = (3, 6)\n",
      "    DEEPTRENCH: Layer = (4, 0)\n",
      "    DICING: Layer = (65, 0)\n",
      "    DRC_EXCLUDE: Layer = (67, 0)\n",
      "    DRC_MARKER: Layer = (205, 0)\n",
      "    DevRec: Layer = (68, 0)\n",
      "    ERROR_MARKER: Layer = (207, 0)\n",
      "    Errors: Layer = (66, 0)\n",
      "    FLOORPLAN: Layer = (64, 0)\n",
      "    FbrTgt: Layer = (81, 0)\n",
      "    GE: Layer = (5, 0)\n",
      "    GENPP: Layer = (26, 0)\n",
      "    GEPPP: Layer = (29, 0)\n",
      "    LABEL: Layer = (201, 0)\n",
      "    LABEL_INSTANCES: Layer = (206, 0)\n",
      "    LABEL_SETTINGS: Layer = (202, 0)\n",
      "    Lumerical: Layer = (733, 0)\n",
      "    M1: Layer = (41, 0)\n",
      "    M1TILES: Layer = (191, 0)\n",
      "    M2: Layer = (45, 0)\n",
      "    M3: Layer = (49, 0)\n",
      "    METALOPEN: Layer = (46, 0)\n",
      "    MH: Layer = (47, 0)\n",
      "    N: Layer = (20, 0)\n",
      "    NOTILE_M1: Layer = (71, 0)\n",
      "    NOTILE_M2: Layer = (72, 0)\n",
      "    NOTILE_M3: Layer = (73, 0)\n",
      "    NP: Layer = (22, 0)\n",
      "    NPP: Layer = (24, 0)\n",
      "    OXIDE_ETCH: Layer = (6, 0)\n",
      "    P: Layer = (21, 0)\n",
      "    PDPP: Layer = (27, 0)\n",
      "    PORT1: Layer = (101, 0)\n",
      "    PORT2: Layer = (102, 0)\n",
      "    PORT3: Layer = (103, 0)\n",
      "    PORT4: Layer = (104, 0)\n",
      "    PP: Layer = (23, 0)\n",
      "    PPP: Layer = (25, 0)\n",
      "    PinRec: Layer = (1, 10)\n",
      "    PinRecM: Layer = (1, 11)\n",
      "    SHALLOWETCH: Layer = (2, 6)\n",
      "    SILICIDE: Layer = (39, 0)\n",
      "    SIM_REGION: Layer = (100, 0)\n",
      "    SITILES: Layer = (190, 0)\n",
      "    SLAB150: Layer = (2, 0)\n",
      "    SLAB150CLAD: Layer = (2, 9)\n",
      "    SLAB90: Layer = (3, 0)\n",
      "    SLAB90CLAD: Layer = (3, 1)\n",
      "    SOURCE: Layer = (110, 0)\n",
      "    TE: Layer = (203, 0)\n",
      "    TEXT: Layer = (66, 0)\n",
      "    TM: Layer = (204, 0)\n",
      "    Text: Layer = (66, 0)\n",
      "    VIA1: Layer = (44, 0)\n",
      "    VIA2: Layer = (43, 0)\n",
      "    VIAC: Layer = (40, 0)\n",
      "    WGCLAD: Layer = (111, 0)\n",
      "    WGN: Layer = (34, 0)\n",
      "    WGNCLAD: Layer = (36, 0)\n",
      "    Waveguide: Layer = (1, 0)\n",
      "    XS_BOX: Layer = (300, 0)\n",
      "    XS_GE: Layer = (315, 0)\n",
      "    XS_M1: Layer = (304, 0)\n",
      "    XS_M2: Layer = (399, 0)\n",
      "    XS_MH: Layer = (306, 0)\n",
      "    XS_N: Layer = (320, 0)\n",
      "    XS_NPP: Layer = (321, 0)\n",
      "    XS_OVERLAY: Layer = (311, 0)\n",
      "    XS_OXIDE_M1: Layer = (305, 0)\n",
      "    XS_OXIDE_M2: Layer = (307, 0)\n",
      "    XS_OXIDE_M3: Layer = (311, 0)\n",
      "    XS_OXIDE_MH: Layer = (317, 0)\n",
      "    XS_OXIDE_ML: Layer = (309, 0)\n",
      "    XS_OX_SI: Layer = (302, 0)\n",
      "    XS_P: Layer = (330, 0)\n",
      "    XS_PDPP: Layer = (327, 0)\n",
      "    XS_PPP: Layer = (331, 0)\n",
      "    XS_SI: Layer = (301, 0)\n",
      "    XS_SIN: Layer = (319, 0)\n",
      "    XS_SIN2: Layer = (305, 0)\n",
      "    XS_SI_SLAB: Layer = (313, 0)\n",
      "    XS_VIA1: Layer = (308, 0)\n",
      "    XS_VIA2: Layer = (310, 0)\n",
      "    XS_VIAC: Layer = (303, 0)\n",
      "\n",
      "    class Config:\n",
      "        frozen = True\n",
      "        extra = \"forbid\"\n",
      "\n",
      "\n",
      "LAYER = LayerMap()\n",
      "\n"
     ]
    }
   ],
   "source": [
    "import gdsfactory as gf\n",
    "from gdsfactory.layers import lyp_to_dataclass\n",
    "from gdsfactory.config import PATH\n",
    "\n",
    "print(lyp_to_dataclass(PATH.klayout_lyp))"
   ]
  },
  {
   "cell_type": "code",
   "execution_count": 2,
   "metadata": {
    "execution": {
     "iopub.execute_input": "2022-05-31T23:07:44.051083Z",
     "iopub.status.busy": "2022-05-31T23:07:44.050584Z",
     "iopub.status.idle": "2022-05-31T23:07:44.065565Z",
     "shell.execute_reply": "2022-05-31T23:07:44.064942Z"
    }
   },
   "outputs": [],
   "source": [
    "\n",
    "from pydantic import BaseModel\n",
    "from gdsfactory.types import Layer\n",
    "\n",
    "\n",
    "class LayerMap(BaseModel):\n",
    "    WG: Layer = (1, 0)\n",
    "    DEVREC: Layer = (68, 0)\n",
    "    PORT: Layer = (1, 10)\n",
    "    PORTE: Layer = (1, 11)\n",
    "    LABEL: Layer = (201, 0)\n",
    "    LABEL_INSTANCES: Layer = (206, 0)\n",
    "    LABEL_SETTINGS: Layer = (202, 0)\n",
    "    LUMERICAL: Layer = (733, 0)\n",
    "    M1: Layer = (41, 0)\n",
    "    M2: Layer = (45, 0)\n",
    "    M3: Layer = (49, 0)\n",
    "    N: Layer = (20, 0)\n",
    "    NP: Layer = (22, 0)\n",
    "    NPP: Layer = (24, 0)\n",
    "    OXIDE_ETCH: Layer = (6, 0)\n",
    "    P: Layer = (21, 0)\n",
    "    PDPP: Layer = (27, 0)\n",
    "    PP: Layer = (23, 0)\n",
    "    PPP: Layer = (25, 0)\n",
    "    PinRec: Layer = (1, 10)\n",
    "    PinRecM: Layer = (1, 11)\n",
    "    SHALLOWETCH: Layer = (2, 6)\n",
    "    SILICIDE: Layer = (39, 0)\n",
    "    SIM_REGION: Layer = (100, 0)\n",
    "    SITILES: Layer = (190, 0)\n",
    "    SLAB150: Layer = (2, 0)\n",
    "    SLAB150CLAD: Layer = (2, 9)\n",
    "    SLAB90: Layer = (3, 0)\n",
    "    SLAB90CLAD: Layer = (3, 1)\n",
    "    SOURCE: Layer = (110, 0)\n",
    "    TE: Layer = (203, 0)\n",
    "    TEXT: Layer = (66, 0)\n",
    "    TM: Layer = (204, 0)\n",
    "    Text: Layer = (66, 0)\n",
    "    VIA1: Layer = (44, 0)\n",
    "    VIA2: Layer = (43, 0)\n",
    "    VIAC: Layer = (40, 0)\n",
    "    WGCLAD: Layer = (111, 0)\n",
    "    WGN: Layer = (34, 0)\n",
    "    WGNCLAD: Layer = (36, 0)\n",
    "\n",
    "    class Config:\n",
    "        frozen = True\n",
    "        extra = \"forbid\"\n",
    "\n",
    "\n",
    "LAYER = LayerMap()"
   ]
  },
  {
   "cell_type": "markdown",
   "metadata": {},
   "source": [
    "## cross_sections\n",
    "\n",
    "You can create a `CrossSection` from scratch or you can customize the cross_section functions in `gf.cross_section`"
   ]
  },
  {
   "cell_type": "code",
   "execution_count": 3,
   "metadata": {
    "execution": {
     "iopub.execute_input": "2022-05-31T23:07:44.068773Z",
     "iopub.status.busy": "2022-05-31T23:07:44.068432Z",
     "iopub.status.idle": "2022-05-31T23:07:44.073104Z",
     "shell.execute_reply": "2022-05-31T23:07:44.071969Z"
    }
   },
   "outputs": [],
   "source": [
    "import gdsfactory as gf\n",
    "\n",
    "strip2 = gf.partial(gf.cross_section.strip, layer=(2, 0))"
   ]
  },
  {
   "cell_type": "code",
   "execution_count": 4,
   "metadata": {
    "execution": {
     "iopub.execute_input": "2022-05-31T23:07:44.075968Z",
     "iopub.status.busy": "2022-05-31T23:07:44.075655Z",
     "iopub.status.idle": "2022-05-31T23:07:44.222383Z",
     "shell.execute_reply": "2022-05-31T23:07:44.221471Z"
    }
   },
   "outputs": [
    {
     "data": {
      "image/png": "[encoded data removed]",
      "text/plain": [
       "<Figure size 432x288 with 1 Axes>"
      ]
     },
     "metadata": {
      "needs_background": "light"
     },
     "output_type": "display_data"
    },
    {
     "data": {
      "text/html": [
       "straight_bf73fda8: uid 0, ports ['o1', 'o2'], aliases [], 4 polygons, 0 references"
      ],
      "text/plain": [
       "straight_bf73fda8: uid 0, ports ['o1', 'o2'], aliases [], 4 polygons, 0 references"
      ]
     },
     "execution_count": 4,
     "metadata": {},
     "output_type": "execute_result"
    }
   ],
   "source": [
    "c = gf.components.straight(cross_section=strip2)\n",
    "c"
   ]
  },
  {
   "cell_type": "code",
   "execution_count": 5,
   "metadata": {
    "execution": {
     "iopub.execute_input": "2022-05-31T23:07:44.225363Z",
     "iopub.status.busy": "2022-05-31T23:07:44.224937Z",
     "iopub.status.idle": "2022-05-31T23:07:44.355626Z",
     "shell.execute_reply": "2022-05-31T23:07:44.355157Z"
    }
   },
   "outputs": [
    {
     "data": {
      "image/png": "[encoded data removed]",
      "text/plain": [
       "<Figure size 432x288 with 1 Axes>"
      ]
     },
     "metadata": {
      "needs_background": "light"
     },
     "output_type": "display_data"
    },
    {
     "data": {
      "text/html": [
       "straight_0cfc69af: uid 2, ports ['o1', 'o2'], aliases [], 6 polygons, 0 references"
      ],
      "text/plain": [
       "straight_0cfc69af: uid 2, ports ['o1', 'o2'], aliases [], 6 polygons, 0 references"
      ]
     },
     "execution_count": 5,
     "metadata": {},
     "output_type": "execute_result"
    }
   ],
   "source": [
    "import gdsfactory as gf\n",
    "\n",
    "pin = gf.partial(\n",
    "    gf.cross_section.strip,\n",
    "    sections=(\n",
    "        gf.tech.Section(width=2, layer=gf.LAYER.N, offset=+1),\n",
    "        gf.tech.Section(width=2, layer=gf.LAYER.P, offset=-1),\n",
    "    ),\n",
    ")\n",
    "c = gf.components.straight(cross_section=pin)\n",
    "c"
   ]
  },
  {
   "cell_type": "code",
   "execution_count": 6,
   "metadata": {
    "execution": {
     "iopub.execute_input": "2022-05-31T23:07:44.358238Z",
     "iopub.status.busy": "2022-05-31T23:07:44.357825Z",
     "iopub.status.idle": "2022-05-31T23:07:44.361787Z",
     "shell.execute_reply": "2022-05-31T23:07:44.360626Z"
    },
    "lines_to_next_cell": 2
   },
   "outputs": [],
   "source": [
    "strip_wide = gf.partial(gf.cross_section.strip, width=3)"
   ]
  },
  {
   "cell_type": "code",
   "execution_count": 7,
   "metadata": {
    "execution": {
     "iopub.execute_input": "2022-05-31T23:07:44.364329Z",
     "iopub.status.busy": "2022-05-31T23:07:44.363926Z",
     "iopub.status.idle": "2022-05-31T23:07:44.367029Z",
     "shell.execute_reply": "2022-05-31T23:07:44.366436Z"
    }
   },
   "outputs": [],
   "source": [
    "strip = gf.partial(\n",
    "    gf.cross_section.strip, auto_widen=True\n",
    ")  # auto_widen tapers to wider waveguides for lower loss in long straight sections."
   ]
  },
  {
   "cell_type": "code",
   "execution_count": 8,
   "metadata": {
    "execution": {
     "iopub.execute_input": "2022-05-31T23:07:44.369675Z",
     "iopub.status.busy": "2022-05-31T23:07:44.369166Z",
     "iopub.status.idle": "2022-05-31T23:07:44.372219Z",
     "shell.execute_reply": "2022-05-31T23:07:44.371654Z"
    }
   },
   "outputs": [],
   "source": [
    "cross_sections = dict(strip_wide=strip_wide, pin=pin, strip=strip)"
   ]
  },
  {
   "cell_type": "markdown",
   "metadata": {},
   "source": [
    "## cells\n",
    "\n",
    "Cells are functions that return Components. You can customize the function default arguments easily thanks to `functools.partial`\n",
    "\n",
    "Lets customize the default arguments of a library of cells.\n",
    "\n",
    "For example, you can make some wide MMIs for a particular technology. Lets say the best MMI width you found it to be 9um."
   ]
  },
  {
   "cell_type": "code",
   "execution_count": 9,
   "metadata": {
    "execution": {
     "iopub.execute_input": "2022-05-31T23:07:44.375001Z",
     "iopub.status.busy": "2022-05-31T23:07:44.374596Z",
     "iopub.status.idle": "2022-05-31T23:07:44.377908Z",
     "shell.execute_reply": "2022-05-31T23:07:44.377435Z"
    }
   },
   "outputs": [],
   "source": [
    "import gdsfactory as gf\n",
    "\n",
    "mmi1x2 = gf.partial(gf.components.mmi1x2, width_mmi=9)\n",
    "mmi2x2 = gf.partial(gf.components.mmi2x2, width_mmi=9)\n",
    "\n",
    "cells = dict(mmi1x2=mmi1x2, mmi2x2=mmi2x2)"
   ]
  },
  {
   "cell_type": "markdown",
   "metadata": {},
   "source": [
    "## LayerSpec, ComponentSpec, CrossSectionSpec\n",
    "\n",
    "When you regiser Layers, ComponentFactories (cells) and CrossSectionFactories (cross_sections), you can access them by a string.\n",
    "\n",
    "### LayerSpec\n",
    "\n",
    "You can access layers from the active Pdk using the layer name or a tuple/list of two numbers."
   ]
  },
  {
   "cell_type": "code",
   "execution_count": 10,
   "metadata": {
    "execution": {
     "iopub.execute_input": "2022-05-31T23:07:44.380633Z",
     "iopub.status.busy": "2022-05-31T23:07:44.380102Z",
     "iopub.status.idle": "2022-05-31T23:07:44.385389Z",
     "shell.execute_reply": "2022-05-31T23:07:44.384815Z"
    }
   },
   "outputs": [],
   "source": [
    "pdk1 = gf.Pdk(\n",
    "    name=\"fab1\",\n",
    "    layers=LAYER.dict(),\n",
    "    cross_sections=cross_sections,\n",
    "    cells=cells,\n",
    "    base_pdk=gf.pdk.GENERIC,\n",
    ")\n",
    "pdk1.activate()"
   ]
  },
  {
   "cell_type": "code",
   "execution_count": 11,
   "metadata": {
    "execution": {
     "iopub.execute_input": "2022-05-31T23:07:44.387842Z",
     "iopub.status.busy": "2022-05-31T23:07:44.387640Z",
     "iopub.status.idle": "2022-05-31T23:07:44.391534Z",
     "shell.execute_reply": "2022-05-31T23:07:44.390956Z"
    }
   },
   "outputs": [
    {
     "data": {
      "text/plain": [
       "(1, 0)"
      ]
     },
     "execution_count": 11,
     "metadata": {},
     "output_type": "execute_result"
    }
   ],
   "source": [
    "pdk1.get_layer(\"WG\")"
   ]
  },
  {
   "cell_type": "code",
   "execution_count": 12,
   "metadata": {
    "execution": {
     "iopub.execute_input": "2022-05-31T23:07:44.394589Z",
     "iopub.status.busy": "2022-05-31T23:07:44.394385Z",
     "iopub.status.idle": "2022-05-31T23:07:44.398177Z",
     "shell.execute_reply": "2022-05-31T23:07:44.397566Z"
    }
   },
   "outputs": [
    {
     "data": {
      "text/plain": [
       "[1, 0]"
      ]
     },
     "execution_count": 12,
     "metadata": {},
     "output_type": "execute_result"
    }
   ],
   "source": [
    "pdk1.get_layer([1, 0])"
   ]
  },
  {
   "cell_type": "markdown",
   "metadata": {},
   "source": [
    "### CrossSectionSpec\n",
    "\n",
    "You can access cross_sections from the pdk from the cross_section name, or using a dict to customize the CrossSection"
   ]
  },
  {
   "cell_type": "code",
   "execution_count": 13,
   "metadata": {
    "execution": {
     "iopub.execute_input": "2022-05-31T23:07:44.401220Z",
     "iopub.status.busy": "2022-05-31T23:07:44.401017Z",
     "iopub.status.idle": "2022-05-31T23:07:44.405127Z",
     "shell.execute_reply": "2022-05-31T23:07:44.404551Z"
    }
   },
   "outputs": [
    {
     "data": {
      "text/plain": [
       "CrossSection(layer='WG', width=0.5, offset=0.0, radius=10.0, width_wide=None, auto_widen=False, auto_widen_minimum_length=200.0, taper_length=10.0, bbox_layers=[], bbox_offsets=[], cladding_layers=['DEVREC'], cladding_offsets=(0.0,), sections=[Section(width=2.0, offset=1.0, layer=(20, 0), port_names=(None, None), port_types=('optical', 'optical'), name=None, hidden=False), Section(width=2.0, offset=-1.0, layer=(21, 0), port_names=(None, None), port_types=('optical', 'optical'), name=None, hidden=False)], port_names=('o1', 'o2'), port_types=('optical', 'optical'), min_length=0.01, start_straight_length=0.01, end_straight_length=0.01, snap_to_grid=None, decorator=None, add_pins=functools.partial(<function add_pins_siepic at 0x7fa29a0ec700>, pin_length=0.002), add_bbox=<function add_bbox_siepic at 0x7fa29a0ec790>, info={}, name=None)"
      ]
     },
     "execution_count": 13,
     "metadata": {},
     "output_type": "execute_result"
    }
   ],
   "source": [
    "pdk1.get_cross_section(\"pin\")"
   ]
  },
  {
   "cell_type": "code",
   "execution_count": 14,
   "metadata": {
    "execution": {
     "iopub.execute_input": "2022-05-31T23:07:44.408144Z",
     "iopub.status.busy": "2022-05-31T23:07:44.407938Z",
     "iopub.status.idle": "2022-05-31T23:07:44.534901Z",
     "shell.execute_reply": "2022-05-31T23:07:44.534425Z"
    }
   },
   "outputs": [
    {
     "data": {
      "image/png": "[encoded data removed]",
      "text/plain": [
       "<Figure size 432x288 with 1 Axes>"
      ]
     },
     "metadata": {
      "needs_background": "light"
     },
     "output_type": "display_data"
    },
    {
     "data": {
      "text/html": [
       "straight_08fed0dd: uid 4, ports ['o1', 'o2'], aliases [], 6 polygons, 0 references"
      ],
      "text/plain": [
       "straight_08fed0dd: uid 4, ports ['o1', 'o2'], aliases [], 6 polygons, 0 references"
      ]
     },
     "execution_count": 14,
     "metadata": {},
     "output_type": "execute_result"
    }
   ],
   "source": [
    "cross_section_spec_string = \"pin\"\n",
    "gf.components.straight(cross_section=cross_section_spec_string)"
   ]
  },
  {
   "cell_type": "code",
   "execution_count": 15,
   "metadata": {
    "execution": {
     "iopub.execute_input": "2022-05-31T23:07:44.537414Z",
     "iopub.status.busy": "2022-05-31T23:07:44.537198Z",
     "iopub.status.idle": "2022-05-31T23:07:44.765689Z",
     "shell.execute_reply": "2022-05-31T23:07:44.765186Z"
    }
   },
   "outputs": [
    {
     "name": "stdout",
     "output_type": "stream",
     "text": [
      "layer='WG' width=2.0 offset=0.0 radius=10.0 width_wide=None auto_widen=False auto_widen_minimum_length=200.0 taper_length=10.0 bbox_layers=[] bbox_offsets=[] cladding_layers=['DEVREC'] cladding_offsets=(0.0,) sections=[Section(width=2.0, offset=1.0, layer=(20, 0), port_names=(None, None), port_types=('optical', 'optical'), name=None, hidden=False), Section(width=2.0, offset=-1.0, layer=(21, 0), port_names=(None, None), port_types=('optical', 'optical'), name=None, hidden=False)] port_names=('o1', 'o2') port_types=('optical', 'optical') min_length=0.01 start_straight_length=0.01 end_straight_length=0.01 snap_to_grid=None decorator=None add_pins=functools.partial(<function add_pins_siepic at 0x7fa29a0ec700>, pin_length=0.002) add_bbox=<function add_bbox_siepic at 0x7fa29a0ec790> info={} name=None\n"
     ]
    },
    {
     "data": {
      "image/png": "[encoded data removed]",
      "text/plain": [
       "<Figure size 432x288 with 1 Axes>"
      ]
     },
     "metadata": {
      "needs_background": "light"
     },
     "output_type": "display_data"
    },
    {
     "data": {
      "text/html": [
       "straight_361ab848: uid 5, ports ['o1', 'o2'], aliases [], 6 polygons, 0 references"
      ],
      "text/plain": [
       "straight_361ab848: uid 5, ports ['o1', 'o2'], aliases [], 6 polygons, 0 references"
      ]
     },
     "execution_count": 15,
     "metadata": {},
     "output_type": "execute_result"
    }
   ],
   "source": [
    "cross_section_spec_dict = dict(cross_section=\"pin\", settings=dict(width=2))\n",
    "print(pdk1.get_cross_section(cross_section_spec_dict))\n",
    "gf.components.straight(cross_section=cross_section_spec_dict)"
   ]
  },
  {
   "cell_type": "markdown",
   "metadata": {},
   "source": [
    "### ComponentSpec\n",
    "\n",
    "You can get Component from the pdk using the cell name (string) or a dict.\n"
   ]
  },
  {
   "cell_type": "code",
   "execution_count": 16,
   "metadata": {
    "execution": {
     "iopub.execute_input": "2022-05-31T23:07:44.769641Z",
     "iopub.status.busy": "2022-05-31T23:07:44.768409Z",
     "iopub.status.idle": "2022-05-31T23:07:44.904137Z",
     "shell.execute_reply": "2022-05-31T23:07:44.903549Z"
    }
   },
   "outputs": [
    {
     "data": {
      "image/png": "[encoded data removed]",
      "text/plain": [
       "<Figure size 432x288 with 1 Axes>"
      ]
     },
     "metadata": {
      "needs_background": "light"
     },
     "output_type": "display_data"
    },
    {
     "data": {
      "text/html": [
       "mmi1x2_5fdc3e44: uid 7, ports ['o1', 'o2', 'o3'], aliases [], 19 polygons, 0 references"
      ],
      "text/plain": [
       "mmi1x2_5fdc3e44: uid 7, ports ['o1', 'o2', 'o3'], aliases [], 19 polygons, 0 references"
      ]
     },
     "execution_count": 16,
     "metadata": {},
     "output_type": "execute_result"
    }
   ],
   "source": [
    "pdk1.get_component(\"mmi1x2\")"
   ]
  },
  {
   "cell_type": "code",
   "execution_count": 17,
   "metadata": {
    "execution": {
     "iopub.execute_input": "2022-05-31T23:07:44.906955Z",
     "iopub.status.busy": "2022-05-31T23:07:44.906539Z",
     "iopub.status.idle": "2022-05-31T23:07:45.027732Z",
     "shell.execute_reply": "2022-05-31T23:07:45.027248Z"
    }
   },
   "outputs": [
    {
     "data": {
      "image/png": "[encoded data removed]",
      "text/plain": [
       "<Figure size 432x288 with 1 Axes>"
      ]
     },
     "metadata": {
      "needs_background": "light"
     },
     "output_type": "display_data"
    },
    {
     "data": {
      "text/html": [
       "mmi1x2_7fd7e42f: uid 11, ports ['o1', 'o2', 'o3'], aliases [], 19 polygons, 0 references"
      ],
      "text/plain": [
       "mmi1x2_7fd7e42f: uid 11, ports ['o1', 'o2', 'o3'], aliases [], 19 polygons, 0 references"
      ]
     },
     "execution_count": 17,
     "metadata": {},
     "output_type": "execute_result"
    }
   ],
   "source": [
    "pdk1.get_component(dict(component=\"mmi1x2\", settings=dict(length_mmi=10)))"
   ]
  },
  {
   "cell_type": "markdown",
   "metadata": {},
   "source": [
    "Now you can define PDKs for different Fabs\n",
    "\n",
    "### FabA\n",
    "\n",
    "FabA only has one waveguide layer available that is defined in GDS layer (30, 0)\n",
    "\n",
    "The waveguide traces are 2um wide."
   ]
  },
  {
   "cell_type": "code",
   "execution_count": 18,
   "metadata": {
    "execution": {
     "iopub.execute_input": "2022-05-31T23:07:45.030644Z",
     "iopub.status.busy": "2022-05-31T23:07:45.030239Z",
     "iopub.status.idle": "2022-05-31T23:07:45.498565Z",
     "shell.execute_reply": "2022-05-31T23:07:45.497938Z"
    }
   },
   "outputs": [
    {
     "name": "stdout",
     "output_type": "stream",
     "text": [
      "(34, 0)\n"
     ]
    },
    {
     "data": {
      "image/png": "[encoded data removed]",
      "text/plain": [
       "<Figure size 432x288 with 1 Axes>"
      ]
     },
     "metadata": {
      "needs_background": "light"
     },
     "output_type": "display_data"
    },
    {
     "data": {
      "text/html": [
       "mzi_add_fiber_array_52dfbbdd: uid 36, ports ['vertical_te_00', 'vertical_te_01', 'vertical_te_10', 'vertical_te_20'], aliases [], 0 polygons, 22 references"
      ],
      "text/plain": [
       "mzi_add_fiber_array_52dfbbdd: uid 36, ports ['vertical_te_00', 'vertical_te_01', 'vertical_te_10', 'vertical_te_20'], aliases [], 0 polygons, 22 references"
      ]
     },
     "execution_count": 18,
     "metadata": {},
     "output_type": "execute_result"
    }
   ],
   "source": [
    "import gdsfactory as gf\n",
    "from gdsfactory.types import Layer\n",
    "from pydantic import BaseModel\n",
    "\n",
    "\n",
    "class LayerMap(BaseModel):\n",
    "    WG: Layer = (34, 0)\n",
    "    SLAB150: Layer = (2, 0)\n",
    "    DEVREC: Layer = (68, 0)\n",
    "    PORT: Layer = (1, 10)\n",
    "    PORTE: Layer = (1, 11)\n",
    "    TE: Layer = (203, 0)\n",
    "    TM: Layer = (204, 0)\n",
    "    TEXT: Layer = (66, 0)\n",
    "\n",
    "\n",
    "WIDTH = 2\n",
    "LAYER = LayerMap()\n",
    "\n",
    "# Specify a cross_section to use\n",
    "strip = gf.partial(gf.cross_section.strip, width=WIDTH, layer=LAYER.WG)\n",
    "\n",
    "mmi1x2 = gf.partial(\n",
    "    gf.components.mmi1x2,\n",
    "    width=WIDTH,\n",
    "    width_taper=WIDTH,\n",
    "    width_mmi=3 * WIDTH,\n",
    "    cross_section=strip,\n",
    ")\n",
    "\n",
    "generic_pdk = gf.pdk.GENERIC\n",
    "\n",
    "fab_a = gf.Pdk(\n",
    "    name=\"Fab_A\",\n",
    "    cells=dict(mmi1x2=mmi1x2),\n",
    "    cross_sections=dict(strip=strip),\n",
    "    layers=LAYER.dict(),\n",
    "    base_pdk=generic_pdk,\n",
    ")\n",
    "fab_a.activate()\n",
    "\n",
    "gc = gf.partial(\n",
    "    gf.components.grating_coupler_elliptical_te, layer=LAYER.WG, cross_section=strip\n",
    ")\n",
    "\n",
    "c = gf.components.mzi()\n",
    "c_gc = gf.routing.add_fiber_array(component=c, grating_coupler=gc)\n",
    "c_gc"
   ]
  },
  {
   "cell_type": "markdown",
   "metadata": {},
   "source": [
    "you can also add a cell `decorator` in case you want to add some cladding layers for bends"
   ]
  },
  {
   "cell_type": "code",
   "execution_count": 19,
   "metadata": {
    "execution": {
     "iopub.execute_input": "2022-05-31T23:07:45.502998Z",
     "iopub.status.busy": "2022-05-31T23:07:45.501780Z",
     "iopub.status.idle": "2022-05-31T23:07:45.831232Z",
     "shell.execute_reply": "2022-05-31T23:07:45.830544Z"
    }
   },
   "outputs": [
    {
     "data": {
      "image/png": "[encoded data removed]",
      "text/plain": [
       "<Figure size 432x288 with 1 Axes>"
      ]
     },
     "metadata": {
      "needs_background": "light"
     },
     "output_type": "display_data"
    },
    {
     "data": {
      "text/html": [
       "mzi_316dd769: uid 53, ports ['o1', 'o2'], aliases [], 0 polygons, 20 references"
      ],
      "text/plain": [
       "mzi_316dd769: uid 53, ports ['o1', 'o2'], aliases [], 0 polygons, 20 references"
      ]
     },
     "execution_count": 19,
     "metadata": {},
     "output_type": "execute_result"
    }
   ],
   "source": [
    "import gdsfactory as gf\n",
    "from gdsfactory.add_pins import add_outline\n",
    "\n",
    "\n",
    "def decorator(component) -> None:\n",
    "    \"\"\"Fab specific functions over a component.\"\"\"\n",
    "    add_outline(component)\n",
    "\n",
    "\n",
    "mmi2x2 = gf.partial(gf.components.mmi2x2, width_mmi=9)\n",
    "mmi1x2 = gf.partial(gf.components.mmi1x2, width_mmi=9)\n",
    "bend_euler = gf.partial(gf.components.bend_euler, decorator=decorator)\n",
    "straight = gf.partial(gf.components.straight)\n",
    "mzi = gf.partial(gf.components.mzi, splitter=mmi1x2, bend=bend_euler, straight=straight)\n",
    "\n",
    "mzi10 = mzi(delta_length=10)\n",
    "mzi10"
   ]
  },
  {
   "cell_type": "markdown",
   "metadata": {},
   "source": [
    "### FabB\n",
    "\n",
    "FabB has photonic waveguides that require many cladding layers to avoid dopants\n",
    "\n",
    "Lets say that the waveguides are defined in layer (2, 0) and are 0.3um wide"
   ]
  },
  {
   "cell_type": "code",
   "execution_count": 20,
   "metadata": {
    "execution": {
     "iopub.execute_input": "2022-05-31T23:07:45.835776Z",
     "iopub.status.busy": "2022-05-31T23:07:45.835306Z",
     "iopub.status.idle": "2022-05-31T23:07:46.315118Z",
     "shell.execute_reply": "2022-05-31T23:07:46.314456Z"
    }
   },
   "outputs": [
    {
     "name": "stdout",
     "output_type": "stream",
     "text": [
      "(2, 0)\n"
     ]
    },
    {
     "data": {
      "image/png": "[encoded data removed]",
      "text/plain": [
       "<Figure size 432x288 with 1 Axes>"
      ]
     },
     "metadata": {
      "needs_background": "light"
     },
     "output_type": "display_data"
    },
    {
     "data": {
      "text/html": [
       "mzi_fb202aa3_add_fiber__b601031a: uid 75, ports ['vertical_te_00', 'vertical_te_01', 'vertical_te_10', 'vertical_te_20'], aliases [], 0 polygons, 22 references"
      ],
      "text/plain": [
       "mzi_fb202aa3_add_fiber__b601031a: uid 75, ports ['vertical_te_00', 'vertical_te_01', 'vertical_te_10', 'vertical_te_20'], aliases [], 0 polygons, 22 references"
      ]
     },
     "execution_count": 20,
     "metadata": {},
     "output_type": "execute_result"
    }
   ],
   "source": [
    "import gdsfactory as gf\n",
    "from gdsfactory.difftest import difftest\n",
    "from pydantic import BaseModel\n",
    "\n",
    "WIDTH = 0.3\n",
    "\n",
    "\n",
    "class LayerMap(BaseModel):\n",
    "    WG: Layer = (2, 0)\n",
    "    SLAB150: Layer = (2, 0)\n",
    "    DEVREC: Layer = (68, 0)\n",
    "    PORT: Layer = (1, 10)\n",
    "    PORTE: Layer = (1, 11)\n",
    "    TE: Layer = (203, 0)\n",
    "    TM: Layer = (204, 0)\n",
    "    TEXT: Layer = (66, 0)\n",
    "    LABEL: Layer = (201, 0)\n",
    "\n",
    "\n",
    "LAYER = LayerMap()\n",
    "\n",
    "strip = gf.partial(\n",
    "    gf.cross_section.strip,\n",
    "    width=WIDTH,\n",
    "    layer=LAYER.WG,\n",
    ")\n",
    "\n",
    "straight = gf.partial(gf.components.straight, cross_section=strip)\n",
    "bend_euler = gf.partial(gf.components.bend_euler, cross_section=strip)\n",
    "mmi1x2 = gf.partial(\n",
    "    gf.components.mmi1x2,\n",
    "    cross_section=strip,\n",
    "    width=WIDTH,\n",
    "    width_taper=WIDTH,\n",
    "    width_mmi=4 * WIDTH,\n",
    ")\n",
    "mzi = gf.partial(gf.components.mzi, cross_section=strip, splitter=mmi1x2)\n",
    "gc = gf.partial(\n",
    "    gf.components.grating_coupler_elliptical_te, layer=LAYER.WG, cross_section=strip\n",
    ")\n",
    "\n",
    "cells = dict(\n",
    "    gc=gc,\n",
    "    mzi=mzi,\n",
    "    mmi1x2=mmi1x2,\n",
    "    bend_euler=bend_euler,\n",
    "    straight=straight,\n",
    "    taper=gf.components.taper,\n",
    ")\n",
    "cross_sections = dict(strip=strip)\n",
    "\n",
    "pdk = gf.Pdk(\n",
    "    name=\"fab_b\", cells=cells, cross_sections=cross_sections, layers=LAYER.dict()\n",
    ")\n",
    "pdk.activate()\n",
    "\n",
    "\n",
    "c = mzi()\n",
    "wg_gc = gf.routing.add_fiber_array(component=c, grating_coupler=gc, cross_section=strip)\n",
    "wg_gc"
   ]
  },
  {
   "cell_type": "markdown",
   "metadata": {},
   "source": [
    "### FabC\n",
    "\n",
    "Lets assume that fab C has both Silicon and Silicon Nitride components, and you need different waveguide widths for C and O band.\n",
    "\n",
    "Lets asume that O band nitride waveguide width is 0.9 and Cband Nitride waveguide width is 1um, and for 0.4um for Silicon O band and 0.5um for silicon Cband.\n",
    "\n",
    "Lets also that this foundry has an LVS flow where all components have optical pins defined in layer (100, 0)"
   ]
  },
  {
   "cell_type": "code",
   "execution_count": 21,
   "metadata": {
    "execution": {
     "iopub.execute_input": "2022-05-31T23:07:46.318468Z",
     "iopub.status.busy": "2022-05-31T23:07:46.318231Z",
     "iopub.status.idle": "2022-05-31T23:07:46.335286Z",
     "shell.execute_reply": "2022-05-31T23:07:46.334737Z"
    },
    "lines_to_next_cell": 2
   },
   "outputs": [],
   "source": [
    "from typing import Callable, Dict, Optional, Tuple\n",
    "import pydantic.dataclasses as dataclasses\n",
    "\n",
    "import gdsfactory as gf\n",
    "from gdsfactory.add_pins import add_pin_rectangle_inside\n",
    "from gdsfactory.component import Component, ComponentReference\n",
    "from gdsfactory.cross_section import cross_section\n",
    "from gdsfactory.tech import LayerLevel, LayerStack, Tech\n",
    "from gdsfactory.types import Layer\n",
    "\n",
    "\n",
    "@dataclasses.dataclass(frozen=True)\n",
    "class LayerMap:\n",
    "    WG: Layer = (10, 1)\n",
    "    WG_CLAD: Layer = (10, 2)\n",
    "    WGN: Layer = (34, 0)\n",
    "    WGN_CLAD: Layer = (36, 0)\n",
    "    PIN: Layer = (100, 0)\n",
    "    SLAB150: Layer = (2, 0)\n",
    "    DEVREC: Layer = (68, 0)\n",
    "    PORT: Layer = (1, 10)\n",
    "    PORTE: Layer = (1, 11)\n",
    "    TE: Layer = (203, 0)\n",
    "    TM: Layer = (204, 0)\n",
    "    TEXT: Layer = (66, 0)\n",
    "    LABEL: Layer = (201, 0)\n",
    "\n",
    "\n",
    "LAYER = LayerMap()\n",
    "WIDTH_NITRIDE_OBAND = 0.9\n",
    "WIDTH_NITRIDE_CBAND = 1.0\n",
    "PORT_TYPE_TO_LAYER = dict(optical=(100, 0))\n",
    "\n",
    "\n",
    "def get_layer_stack_fab_c(thickness: float = 350.0) -> LayerStack:\n",
    "    \"\"\"Returns generic LayerStack\"\"\"\n",
    "    return LayerStack(\n",
    "        layers=dict(\n",
    "            core=LayerLevel(\n",
    "                layer=(34, 0),\n",
    "                thickness=350.0,\n",
    "                zmin=220.0 + 100.0,\n",
    "            ),\n",
    "            clad=LayerLevel(layer=(36, 0)),\n",
    "        )\n",
    "    )\n",
    "\n",
    "\n",
    "def add_pins(\n",
    "    component: Component,\n",
    "    function: Callable = add_pin_rectangle_inside,\n",
    "    pin_length: float = 0.5,\n",
    "    port_layer: Layer = LAYER.PIN,\n",
    "    **kwargs,\n",
    ") -> Component:\n",
    "    \"\"\"Add Pin port markers.\n",
    "\n",
    "    Args:\n",
    "        component: to add ports\n",
    "        function:\n",
    "        pin_length:\n",
    "        port_layer:\n",
    "        function: kwargs\n",
    "\n",
    "    \"\"\"\n",
    "    for p in component.ports.values():\n",
    "        function(\n",
    "            component=component,\n",
    "            port=p,\n",
    "            layer=port_layer,\n",
    "            layer_label=port_layer,\n",
    "            pin_length=pin_length,\n",
    "            **kwargs,\n",
    "        )\n",
    "    return component\n",
    "\n",
    "\n",
    "# cross_sections\n",
    "\n",
    "bbox_layers = [LAYER.WGN_CLAD]\n",
    "bbox_offsets = [3]\n",
    "\n",
    "fabc_nitride_cband = gf.partial(\n",
    "    cross_section,\n",
    "    width=WIDTH_NITRIDE_CBAND,\n",
    "    layer=LAYER.WGN,\n",
    "    bbox_layers=bbox_layers,\n",
    "    bbox_offsets=bbox_offsets,\n",
    "    add_pins=add_pins,\n",
    ")\n",
    "fabc_nitride_oband = gf.partial(\n",
    "    cross_section,\n",
    "    width=WIDTH_NITRIDE_OBAND,\n",
    "    layer=LAYER.WGN,\n",
    "    bbox_layers=bbox_layers,\n",
    "    bbox_offsets=bbox_offsets,\n",
    "    add_pins=add_pins,\n",
    ")\n",
    "\n",
    "\n",
    "# LEAF COMPONENTS have pins\n",
    "\n",
    "mmi1x2_nitride_c = gf.partial(\n",
    "    gf.components.mmi1x2,\n",
    "    width=WIDTH_NITRIDE_CBAND,\n",
    "    cross_section=fabc_nitride_cband,\n",
    ")\n",
    "mmi1x2_nitride_o = gf.partial(\n",
    "    gf.components.mmi1x2,\n",
    "    width=WIDTH_NITRIDE_OBAND,\n",
    "    cross_section=fabc_nitride_oband,\n",
    ")\n",
    "bend_euler_c = gf.partial(\n",
    "    gf.components.bend_euler,\n",
    "    cross_section=fabc_nitride_cband,\n",
    ")\n",
    "straight_c = gf.partial(\n",
    "    gf.components.straight,\n",
    "    cross_section=fabc_nitride_cband,\n",
    ")\n",
    "bend_euler_o = gf.partial(\n",
    "    gf.components.bend_euler,\n",
    "    cross_section=fabc_nitride_oband,\n",
    ")\n",
    "straight_o = gf.partial(\n",
    "    gf.components.straight,\n",
    "    cross_section=fabc_nitride_oband,\n",
    ")\n",
    "\n",
    "gc_nitride_c = gf.partial(\n",
    "    gf.components.grating_coupler_elliptical_te,\n",
    "    grating_line_width=0.6,\n",
    "    layer=LAYER.WGN,\n",
    "    cross_section=fabc_nitride_cband,\n",
    ")\n",
    "\n",
    "# HIERARCHICAL COMPONENTS made of leaf components\n",
    "\n",
    "mzi_nitride_c = gf.partial(\n",
    "    gf.components.mzi,\n",
    "    cross_section=fabc_nitride_cband,\n",
    "    splitter=mmi1x2_nitride_c,\n",
    "    straight=straight_c,\n",
    "    bend=bend_euler_c,\n",
    ")\n",
    "mzi_nitride_o = gf.partial(\n",
    "    gf.components.mzi,\n",
    "    cross_section=fabc_nitride_oband,\n",
    "    splitter=mmi1x2_nitride_o,\n",
    "    straight=straight_o,\n",
    "    bend=bend_euler_o,\n",
    ")"
   ]
  },
  {
   "cell_type": "code",
   "execution_count": 22,
   "metadata": {
    "execution": {
     "iopub.execute_input": "2022-05-31T23:07:46.338314Z",
     "iopub.status.busy": "2022-05-31T23:07:46.337990Z",
     "iopub.status.idle": "2022-05-31T23:07:46.761549Z",
     "shell.execute_reply": "2022-05-31T23:07:46.760967Z"
    }
   },
   "outputs": [
    {
     "name": "stdout",
     "output_type": "stream",
     "text": [
      "(34, 0)\n"
     ]
    },
    {
     "data": {
      "image/png": "[encoded data removed]",
      "text/plain": [
       "<Figure size 432x288 with 1 Axes>"
      ]
     },
     "metadata": {
      "needs_background": "light"
     },
     "output_type": "display_data"
    },
    {
     "data": {
      "text/html": [
       "mzi_f732a140_move_2317d_eda806cd: uid 113, ports ['vertical_te_00', 'vertical_te_1', 'loopback1', 'loopback2'], aliases [], 0 polygons, 8 references"
      ],
      "text/plain": [
       "mzi_f732a140_move_2317d_eda806cd: uid 113, ports ['vertical_te_00', 'vertical_te_1', 'loopback1', 'loopback2'], aliases [], 0 polygons, 8 references"
      ]
     },
     "execution_count": 22,
     "metadata": {},
     "output_type": "execute_result"
    }
   ],
   "source": [
    "mzi = mzi_nitride_c()\n",
    "mzi_gc = gf.routing.add_fiber_single(\n",
    "    component=mzi,\n",
    "    grating_coupler=gc_nitride_c,\n",
    "    cross_section=fabc_nitride_cband,\n",
    "    optical_routing_type=1,\n",
    "    straight=straight_c,\n",
    "    bend=bend_euler_c,\n",
    ")\n",
    "mzi_gc"
   ]
  },
  {
   "cell_type": "code",
   "execution_count": 23,
   "metadata": {
    "execution": {
     "iopub.execute_input": "2022-05-31T23:07:46.765842Z",
     "iopub.status.busy": "2022-05-31T23:07:46.764645Z",
     "iopub.status.idle": "2022-05-31T23:07:46.769065Z",
     "shell.execute_reply": "2022-05-31T23:07:46.768528Z"
    }
   },
   "outputs": [],
   "source": [
    "ls = get_layer_stack_fab_c()"
   ]
  },
  {
   "cell_type": "markdown",
   "metadata": {},
   "source": [
    "## PDK Testing\n",
    "\n",
    "To make sure all your PDK Pcells produce the components that you want, it's important to test your PDK.\n",
    "\n",
    "As you write your own component factories you want to make sure you do not break them later on. You can write tests to avoid unwanted regressions.\n",
    "\n",
    "Make sure you create a test like this an name it with test_ prefix so Pytest can find it.\n"
   ]
  },
  {
   "cell_type": "code",
   "execution_count": 24,
   "metadata": {
    "execution": {
     "iopub.execute_input": "2022-05-31T23:07:46.772339Z",
     "iopub.status.busy": "2022-05-31T23:07:46.772026Z",
     "iopub.status.idle": "2022-05-31T23:07:46.780474Z",
     "shell.execute_reply": "2022-05-31T23:07:46.779955Z"
    }
   },
   "outputs": [],
   "source": [
    "\"\"\"This code tests all your cells in the PDK\n",
    "\n",
    "it will test 3 things:\n",
    "\n",
    "1. difftest: will test the GDS geometry of a new GDS compared to a reference. Thanks to Klayout fast booleans.add()\n",
    "2. settings test: will compare the settings in YAML with a reference YAML file.add()\n",
    "3. ensure ports are on grid, to avoid port snapping errors that can create 1nm gaps later on when you build circuits.\n",
    "\n",
    "\"\"\"\n",
    "\n",
    "import pathlib\n",
    "\n",
    "import pytest\n",
    "from pytest_regressions.data_regression import DataRegressionFixture\n",
    "\n",
    "import gdsfactory as gf\n",
    "from gdsfactory.difftest import difftest\n",
    "\n",
    "try:\n",
    "    dirpath = pathlib.Path(__file__).absolute().with_suffix(\".gds\")\n",
    "except Exception:\n",
    "    dirpath = pathlib.Path.cwd()\n",
    "\n",
    "    \n",
    "component_names = list(pdk.cells.keys())\n",
    "factory = pdk.cells\n",
    "\n",
    "\n",
    "@pytest.fixture(params=component_names, scope=\"function\")\n",
    "def component_name(request) -> str:\n",
    "    return request.param\n",
    "\n",
    "\n",
    "def test_gds(component_name: str) -> None:\n",
    "    \"\"\"Avoid regressions in GDS names, shapes and layers.\n",
    "    Runs XOR and computes the area.\"\"\"\n",
    "    component = factory[component_name]()\n",
    "    test_name = f\"fabc_{component_name}\"\n",
    "    difftest(component, test_name=test_name, dirpath=dirpath)\n",
    "\n",
    "\n",
    "def test_settings(component_name: str, data_regression: DataRegressionFixture) -> None:\n",
    "    \"\"\"Avoid regressions in component settings and ports.\"\"\"\n",
    "    component = factory[component_name]()\n",
    "    data_regression.check(component.to_dict())\n",
    "\n",
    "\n",
    "def test_assert_ports_on_grid(component_name: str):\n",
    "    \"\"\"Ensures all ports are on grid to avoid 1nm gaps\"\"\"\n",
    "    component = factory[component_name]()\n",
    "    component.assert_ports_on_grid()"
   ]
  }
 ],
 "metadata": {
  "kernelspec": {
   "display_name": "Python 3 (ipykernel)",
   "language": "python",
   "name": "python3"
  },
  "language_info": {
   "codemirror_mode": {
    "name": "ipython",
    "version": 3
   },
   "file_extension": ".py",
   "mimetype": "text/x-python",
   "name": "python",
   "nbconvert_exporter": "python",
   "pygments_lexer": "ipython3",
   "version": "3.9.13"
  }
 },
 "nbformat": 4,
 "nbformat_minor": 4
}
